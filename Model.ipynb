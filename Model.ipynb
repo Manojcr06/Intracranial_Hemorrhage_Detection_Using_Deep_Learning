{
  "nbformat": 4,
  "nbformat_minor": 5,
  "metadata": {
    "kernelspec": {
      "display_name": "Python 3",
      "language": "python",
      "name": "python3"
    },
    "language_info": {
      "codemirror_mode": {
        "name": "ipython",
        "version": 3
      },
      "file_extension": ".py",
      "mimetype": "text/x-python",
      "name": "python",
      "nbconvert_exporter": "python",
      "pygments_lexer": "ipython3",
      "version": "3.7.10"
    },
    "papermill": {
      "default_parameters": {},
      "duration": 28885.291536,
      "end_time": "2021-06-13T22:29:56.182670",
      "environment_variables": {},
      "exception": null,
      "input_path": "__notebook__.ipynb",
      "output_path": "__notebook__.ipynb",
      "parameters": {},
      "start_time": "2021-06-13T14:28:30.891134",
      "version": "2.3.3"
    },
    "colab": {
      "name": "Model.ipynb",
      "provenance": []
    }
  },
  "cells": [
    {
      "cell_type": "code",
      "metadata": {
        "_cell_guid": "b1076dfc-b9ad-4769-8c92-a6c4dae69d19",
        "_uuid": "8f2839f25d086af736a60e9eeb907d3b93b6e0e5",
        "execution": {
          "iopub.execute_input": "2021-06-13T14:28:38.273132Z",
          "iopub.status.busy": "2021-06-13T14:28:38.272618Z",
          "iopub.status.idle": "2021-06-13T14:28:44.613788Z",
          "shell.execute_reply": "2021-06-13T14:28:44.612833Z",
          "shell.execute_reply.started": "2021-06-13T14:25:18.616640Z"
        },
        "papermill": {
          "duration": 6.402583,
          "end_time": "2021-06-13T14:28:44.613952",
          "exception": false,
          "start_time": "2021-06-13T14:28:38.211369",
          "status": "completed"
        },
        "tags": [],
        "id": "lasting-wrist"
      },
      "source": [
        "import os\n",
        "import json\n",
        "import cv2\n",
        "import numpy as np\n",
        "import pandas as pd\n",
        "import seaborn as sns\n",
        "import matplotlib.pyplot as plt\n",
        "import pydicom\n",
        "from keras import layers\n",
        "from keras.preprocessing.image import ImageDataGenerator\n",
        "from keras.callbacks import Callback, ModelCheckpoint, EarlyStopping\n",
        "from keras.initializers import Constant\n",
        "from keras.models import Sequential\n",
        "from keras.optimizers import Adam\n",
        "from tensorflow.python.ops import array_ops\n",
        "from tqdm import tqdm\n",
        "from keras import backend as K\n",
        "import tensorflow as tf\n",
        "import keras\n",
        "from keras.applications import Xception\n",
        "from keras.models import Model, load_model\n",
        "from math import ceil, floor\n",
        "from sklearn.model_selection import ShuffleSplit\n",
        "from sklearn.metrics import log_loss\n",
        "from keras.layers import Dense, Flatten, Dropout, GlobalAveragePooling2D"
      ],
      "id": "lasting-wrist",
      "execution_count": null,
      "outputs": []
    },
    {
      "cell_type": "code",
      "metadata": {
        "execution": {
          "iopub.execute_input": "2021-06-13T14:28:44.907183Z",
          "iopub.status.busy": "2021-06-13T14:28:44.906582Z",
          "iopub.status.idle": "2021-06-13T14:28:44.917662Z",
          "shell.execute_reply": "2021-06-13T14:28:44.917229Z",
          "shell.execute_reply.started": "2021-06-13T14:25:20.930477Z"
        },
        "papermill": {
          "duration": 0.062995,
          "end_time": "2021-06-13T14:28:44.917776",
          "exception": false,
          "start_time": "2021-06-13T14:28:44.854781",
          "status": "completed"
        },
        "tags": [],
        "id": "atmospheric-bonus",
        "outputId": "e1169fcf-c09a-4db2-9028-815ab978e834"
      },
      "source": [
        "os.listdir('/kaggle/input/rsna-intracranial-hemorrhage-detection/rsna-intracranial-hemorrhage-detection')"
      ],
      "id": "atmospheric-bonus",
      "execution_count": null,
      "outputs": [
        {
          "output_type": "execute_result",
          "data": {
            "text/plain": [
              "['stage_2_train',\n",
              " 'stage_2_test',\n",
              " 'stage_2_sample_submission.csv',\n",
              " 'stage_2_train.csv']"
            ]
          },
          "metadata": {
            "tags": []
          },
          "execution_count": 2
        }
      ]
    },
    {
      "cell_type": "code",
      "metadata": {
        "execution": {
          "iopub.execute_input": "2021-06-13T14:28:45.019692Z",
          "iopub.status.busy": "2021-06-13T14:28:45.019177Z",
          "iopub.status.idle": "2021-06-13T14:28:48.610034Z",
          "shell.execute_reply": "2021-06-13T14:28:48.609294Z",
          "shell.execute_reply.started": "2021-06-13T14:25:22.550146Z"
        },
        "papermill": {
          "duration": 3.643732,
          "end_time": "2021-06-13T14:28:48.610159",
          "exception": false,
          "start_time": "2021-06-13T14:28:44.966427",
          "status": "completed"
        },
        "tags": [],
        "id": "herbal-picking"
      },
      "source": [
        "BASE_PATH = '/kaggle/input/rsna-intracranial-hemorrhage-detection/rsna-intracranial-hemorrhage-detection/'\n",
        "TRAIN_DIR = 'stage_2_train/'\n",
        "TEST_DIR = 'stage_2_test/'\n",
        "train_df = pd.read_csv(BASE_PATH + 'stage_2_train.csv')"
      ],
      "id": "herbal-picking",
      "execution_count": null,
      "outputs": []
    },
    {
      "cell_type": "code",
      "metadata": {
        "execution": {
          "iopub.execute_input": "2021-06-13T14:28:48.715669Z",
          "iopub.status.busy": "2021-06-13T14:28:48.715116Z",
          "iopub.status.idle": "2021-06-13T14:28:55.381534Z",
          "shell.execute_reply": "2021-06-13T14:28:55.381924Z",
          "shell.execute_reply.started": "2021-06-13T14:25:26.513407Z"
        },
        "papermill": {
          "duration": 6.72223,
          "end_time": "2021-06-13T14:28:55.382074",
          "exception": false,
          "start_time": "2021-06-13T14:28:48.659844",
          "status": "completed"
        },
        "tags": [],
        "id": "respective-alfred",
        "outputId": "bab07689-df49-40a4-db4a-83056e2a6ef4"
      },
      "source": [
        "sub_df = pd.read_csv(BASE_PATH + 'stage_2_sample_submission.csv')\n",
        "\n",
        "train_df['filename'] = train_df['ID'].apply(lambda st: \"ID_\" + st.split('_')[1] + \".png\")\n",
        "train_df['type'] = train_df['ID'].apply(lambda st: st.split('_')[2])\n",
        "sub_df['filename'] = sub_df['ID'].apply(lambda st: \"ID_\" + st.split('_')[1] + \".png\")\n",
        "sub_df['type'] = sub_df['ID'].apply(lambda st: st.split('_')[2])\n",
        "\n",
        "print(train_df.shape)\n",
        "train_df.head()"
      ],
      "id": "respective-alfred",
      "execution_count": null,
      "outputs": [
        {
          "output_type": "stream",
          "text": [
            "(4516842, 4)\n"
          ],
          "name": "stdout"
        },
        {
          "output_type": "execute_result",
          "data": {
            "text/html": [
              "<div>\n",
              "<style scoped>\n",
              "    .dataframe tbody tr th:only-of-type {\n",
              "        vertical-align: middle;\n",
              "    }\n",
              "\n",
              "    .dataframe tbody tr th {\n",
              "        vertical-align: top;\n",
              "    }\n",
              "\n",
              "    .dataframe thead th {\n",
              "        text-align: right;\n",
              "    }\n",
              "</style>\n",
              "<table border=\"1\" class=\"dataframe\">\n",
              "  <thead>\n",
              "    <tr style=\"text-align: right;\">\n",
              "      <th></th>\n",
              "      <th>ID</th>\n",
              "      <th>Label</th>\n",
              "      <th>filename</th>\n",
              "      <th>type</th>\n",
              "    </tr>\n",
              "  </thead>\n",
              "  <tbody>\n",
              "    <tr>\n",
              "      <th>0</th>\n",
              "      <td>ID_12cadc6af_epidural</td>\n",
              "      <td>0</td>\n",
              "      <td>ID_12cadc6af.png</td>\n",
              "      <td>epidural</td>\n",
              "    </tr>\n",
              "    <tr>\n",
              "      <th>1</th>\n",
              "      <td>ID_12cadc6af_intraparenchymal</td>\n",
              "      <td>0</td>\n",
              "      <td>ID_12cadc6af.png</td>\n",
              "      <td>intraparenchymal</td>\n",
              "    </tr>\n",
              "    <tr>\n",
              "      <th>2</th>\n",
              "      <td>ID_12cadc6af_intraventricular</td>\n",
              "      <td>0</td>\n",
              "      <td>ID_12cadc6af.png</td>\n",
              "      <td>intraventricular</td>\n",
              "    </tr>\n",
              "    <tr>\n",
              "      <th>3</th>\n",
              "      <td>ID_12cadc6af_subarachnoid</td>\n",
              "      <td>0</td>\n",
              "      <td>ID_12cadc6af.png</td>\n",
              "      <td>subarachnoid</td>\n",
              "    </tr>\n",
              "    <tr>\n",
              "      <th>4</th>\n",
              "      <td>ID_12cadc6af_subdural</td>\n",
              "      <td>0</td>\n",
              "      <td>ID_12cadc6af.png</td>\n",
              "      <td>subdural</td>\n",
              "    </tr>\n",
              "  </tbody>\n",
              "</table>\n",
              "</div>"
            ],
            "text/plain": [
              "                              ID  Label          filename              type\n",
              "0          ID_12cadc6af_epidural      0  ID_12cadc6af.png          epidural\n",
              "1  ID_12cadc6af_intraparenchymal      0  ID_12cadc6af.png  intraparenchymal\n",
              "2  ID_12cadc6af_intraventricular      0  ID_12cadc6af.png  intraventricular\n",
              "3      ID_12cadc6af_subarachnoid      0  ID_12cadc6af.png      subarachnoid\n",
              "4          ID_12cadc6af_subdural      0  ID_12cadc6af.png          subdural"
            ]
          },
          "metadata": {
            "tags": []
          },
          "execution_count": 4
        }
      ]
    },
    {
      "cell_type": "code",
      "metadata": {
        "execution": {
          "iopub.execute_input": "2021-06-13T14:28:55.527143Z",
          "iopub.status.busy": "2021-06-13T14:28:55.526381Z",
          "iopub.status.idle": "2021-06-13T14:28:55.568179Z",
          "shell.execute_reply": "2021-06-13T14:28:55.568568Z",
          "shell.execute_reply.started": "2021-06-13T14:25:32.931059Z"
        },
        "papermill": {
          "duration": 0.136994,
          "end_time": "2021-06-13T14:28:55.568709",
          "exception": false,
          "start_time": "2021-06-13T14:28:55.431715",
          "status": "completed"
        },
        "tags": [],
        "id": "intense-subsection",
        "outputId": "c0ab7309-45da-499d-d5e0-576780c1d67f"
      },
      "source": [
        "test_df = pd.DataFrame(sub_df.filename.unique(), columns=['filename'])\n",
        "print(test_df.shape)\n",
        "test_df.head()"
      ],
      "id": "intense-subsection",
      "execution_count": null,
      "outputs": [
        {
          "output_type": "stream",
          "text": [
            "(121232, 1)\n"
          ],
          "name": "stdout"
        },
        {
          "output_type": "execute_result",
          "data": {
            "text/html": [
              "<div>\n",
              "<style scoped>\n",
              "    .dataframe tbody tr th:only-of-type {\n",
              "        vertical-align: middle;\n",
              "    }\n",
              "\n",
              "    .dataframe tbody tr th {\n",
              "        vertical-align: top;\n",
              "    }\n",
              "\n",
              "    .dataframe thead th {\n",
              "        text-align: right;\n",
              "    }\n",
              "</style>\n",
              "<table border=\"1\" class=\"dataframe\">\n",
              "  <thead>\n",
              "    <tr style=\"text-align: right;\">\n",
              "      <th></th>\n",
              "      <th>filename</th>\n",
              "    </tr>\n",
              "  </thead>\n",
              "  <tbody>\n",
              "    <tr>\n",
              "      <th>0</th>\n",
              "      <td>ID_0fbf6a978.png</td>\n",
              "    </tr>\n",
              "    <tr>\n",
              "      <th>1</th>\n",
              "      <td>ID_d62ec3412.png</td>\n",
              "    </tr>\n",
              "    <tr>\n",
              "      <th>2</th>\n",
              "      <td>ID_cb544194b.png</td>\n",
              "    </tr>\n",
              "    <tr>\n",
              "      <th>3</th>\n",
              "      <td>ID_0d62513ec.png</td>\n",
              "    </tr>\n",
              "    <tr>\n",
              "      <th>4</th>\n",
              "      <td>ID_fc45b2151.png</td>\n",
              "    </tr>\n",
              "  </tbody>\n",
              "</table>\n",
              "</div>"
            ],
            "text/plain": [
              "           filename\n",
              "0  ID_0fbf6a978.png\n",
              "1  ID_d62ec3412.png\n",
              "2  ID_cb544194b.png\n",
              "3  ID_0d62513ec.png\n",
              "4  ID_fc45b2151.png"
            ]
          },
          "metadata": {
            "tags": []
          },
          "execution_count": 5
        }
      ]
    },
    {
      "cell_type": "code",
      "metadata": {
        "execution": {
          "iopub.execute_input": "2021-06-13T14:28:55.889833Z",
          "iopub.status.busy": "2021-06-13T14:28:55.672905Z",
          "iopub.status.idle": "2021-06-13T14:28:56.852712Z",
          "shell.execute_reply": "2021-06-13T14:28:56.853132Z",
          "shell.execute_reply.started": "2021-06-13T14:25:33.011658Z"
        },
        "papermill": {
          "duration": 1.234022,
          "end_time": "2021-06-13T14:28:56.853305",
          "exception": false,
          "start_time": "2021-06-13T14:28:55.619283",
          "status": "completed"
        },
        "tags": [],
        "id": "smart-automation",
        "outputId": "b9aea3c3-bdf7-4699-8bba-557410af26cd"
      },
      "source": [
        "subtypes = train_df.groupby('type').sum()\n",
        "subtypes"
      ],
      "id": "smart-automation",
      "execution_count": null,
      "outputs": [
        {
          "output_type": "execute_result",
          "data": {
            "text/html": [
              "<div>\n",
              "<style scoped>\n",
              "    .dataframe tbody tr th:only-of-type {\n",
              "        vertical-align: middle;\n",
              "    }\n",
              "\n",
              "    .dataframe tbody tr th {\n",
              "        vertical-align: top;\n",
              "    }\n",
              "\n",
              "    .dataframe thead th {\n",
              "        text-align: right;\n",
              "    }\n",
              "</style>\n",
              "<table border=\"1\" class=\"dataframe\">\n",
              "  <thead>\n",
              "    <tr style=\"text-align: right;\">\n",
              "      <th></th>\n",
              "      <th>Label</th>\n",
              "    </tr>\n",
              "    <tr>\n",
              "      <th>type</th>\n",
              "      <th></th>\n",
              "    </tr>\n",
              "  </thead>\n",
              "  <tbody>\n",
              "    <tr>\n",
              "      <th>any</th>\n",
              "      <td>107933</td>\n",
              "    </tr>\n",
              "    <tr>\n",
              "      <th>epidural</th>\n",
              "      <td>3145</td>\n",
              "    </tr>\n",
              "    <tr>\n",
              "      <th>intraparenchymal</th>\n",
              "      <td>36118</td>\n",
              "    </tr>\n",
              "    <tr>\n",
              "      <th>intraventricular</th>\n",
              "      <td>26205</td>\n",
              "    </tr>\n",
              "    <tr>\n",
              "      <th>subarachnoid</th>\n",
              "      <td>35675</td>\n",
              "    </tr>\n",
              "    <tr>\n",
              "      <th>subdural</th>\n",
              "      <td>47166</td>\n",
              "    </tr>\n",
              "  </tbody>\n",
              "</table>\n",
              "</div>"
            ],
            "text/plain": [
              "                   Label\n",
              "type                    \n",
              "any               107933\n",
              "epidural            3145\n",
              "intraparenchymal   36118\n",
              "intraventricular   26205\n",
              "subarachnoid       35675\n",
              "subdural           47166"
            ]
          },
          "metadata": {
            "tags": []
          },
          "execution_count": 6
        }
      ]
    },
    {
      "cell_type": "code",
      "metadata": {
        "execution": {
          "iopub.execute_input": "2021-06-13T14:28:56.975748Z",
          "iopub.status.busy": "2021-06-13T14:28:56.975256Z",
          "iopub.status.idle": "2021-06-13T14:28:57.255938Z",
          "shell.execute_reply": "2021-06-13T14:28:57.255126Z",
          "shell.execute_reply.started": "2021-06-13T14:25:34.271026Z"
        },
        "papermill": {
          "duration": 0.352546,
          "end_time": "2021-06-13T14:28:57.256068",
          "exception": false,
          "start_time": "2021-06-13T14:28:56.903522",
          "status": "completed"
        },
        "tags": [],
        "id": "artistic-stable",
        "outputId": "074f3713-9504-40ac-9707-8b0f8aeb3ae1"
      },
      "source": [
        "sns.barplot(y=subtypes.index, x=subtypes.Label, palette=\"deep\")"
      ],
      "id": "artistic-stable",
      "execution_count": null,
      "outputs": [
        {
          "output_type": "execute_result",
          "data": {
            "text/plain": [
              "<AxesSubplot:xlabel='Label', ylabel='type'>"
            ]
          },
          "metadata": {
            "tags": []
          },
          "execution_count": 7
        },
        {
          "output_type": "display_data",
          "data": {
            "image/png": "[encoded data removed]",
            "text/plain": [
              "<Figure size 432x288 with 1 Axes>"
            ]
          },
          "metadata": {
            "tags": [],
            "needs_background": "light"
          }
        }
      ]
    },
    {
      "cell_type": "markdown",
      "metadata": {
        "papermill": {
          "duration": 0.053222,
          "end_time": "2021-06-13T14:28:57.363506",
          "exception": false,
          "start_time": "2021-06-13T14:28:57.310284",
          "status": "completed"
        },
        "tags": [],
        "id": "portuguese-coordinate"
      },
      "source": [
        "**From this we can note a few things: **\n",
        "* There are 107933 images with \"any\" hemmorhages. This is quite low compared to the 720000 images we have in the dataset \n",
        "* Thus, we could create a generator with all the images containing hemorrages and the same amount of images not subject to an hemmorhage. \n",
        "* Additionaly, all types of hemmorhages are realtively equaly represented, except the 'epidural' type that has only 3145 cases in the whole dataset. We could try to run in with this type discarded.  "
      ],
      "id": "portuguese-coordinate"
    },
    {
      "cell_type": "code",
      "metadata": {
        "execution": {
          "iopub.execute_input": "2021-06-13T14:28:57.484776Z",
          "iopub.status.busy": "2021-06-13T14:28:57.484127Z",
          "iopub.status.idle": "2021-06-13T14:29:09.661976Z",
          "shell.execute_reply": "2021-06-13T14:29:09.660955Z",
          "shell.execute_reply.started": "2021-06-13T14:25:42.703578Z"
        },
        "papermill": {
          "duration": 12.239068,
          "end_time": "2021-06-13T14:29:09.662127",
          "exception": false,
          "start_time": "2021-06-13T14:28:57.423059",
          "status": "completed"
        },
        "tags": [],
        "id": "sixth-thesis"
      },
      "source": [
        "np.random.seed(2019)\n",
        "sample_files = np.random.choice(os.listdir(BASE_PATH + TRAIN_DIR), 400000) # take the rest for testing\n",
        "sample_df = train_df[train_df.filename.apply(lambda x: x.replace('.png', '.dcm')).isin(sample_files)]"
      ],
      "id": "sixth-thesis",
      "execution_count": null,
      "outputs": []
    },
    {
      "cell_type": "code",
      "metadata": {
        "execution": {
          "iopub.execute_input": "2021-06-13T14:29:09.841767Z",
          "iopub.status.busy": "2021-06-13T14:29:09.840926Z",
          "iopub.status.idle": "2021-06-13T14:29:12.432287Z",
          "shell.execute_reply": "2021-06-13T14:29:12.432962Z",
          "shell.execute_reply.started": "2021-06-13T14:26:40.451095Z"
        },
        "papermill": {
          "duration": 2.718732,
          "end_time": "2021-06-13T14:29:12.433202",
          "exception": false,
          "start_time": "2021-06-13T14:29:09.714470",
          "status": "completed"
        },
        "tags": [],
        "id": "nervous-joining",
        "outputId": "b7957f70-a765-4916-d886-462e4b9fb355"
      },
      "source": [
        "pivot_df = sample_df[['Label', 'filename', 'type']].drop_duplicates().pivot(\n",
        "    index='filename', columns='type', values='Label').reset_index()\n",
        "print(pivot_df.shape)\n",
        "pivot_df"
      ],
      "id": "nervous-joining",
      "execution_count": null,
      "outputs": [
        {
          "output_type": "stream",
          "text": [
            "(310498, 7)\n"
          ],
          "name": "stdout"
        },
        {
          "output_type": "execute_result",
          "data": {
            "text/html": [
              "<div>\n",
              "<style scoped>\n",
              "    .dataframe tbody tr th:only-of-type {\n",
              "        vertical-align: middle;\n",
              "    }\n",
              "\n",
              "    .dataframe tbody tr th {\n",
              "        vertical-align: top;\n",
              "    }\n",
              "\n",
              "    .dataframe thead th {\n",
              "        text-align: right;\n",
              "    }\n",
              "</style>\n",
              "<table border=\"1\" class=\"dataframe\">\n",
              "  <thead>\n",
              "    <tr style=\"text-align: right;\">\n",
              "      <th>type</th>\n",
              "      <th>filename</th>\n",
              "      <th>any</th>\n",
              "      <th>epidural</th>\n",
              "      <th>intraparenchymal</th>\n",
              "      <th>intraventricular</th>\n",
              "      <th>subarachnoid</th>\n",
              "      <th>subdural</th>\n",
              "    </tr>\n",
              "  </thead>\n",
              "  <tbody>\n",
              "    <tr>\n",
              "      <th>0</th>\n",
              "      <td>ID_00005679d.png</td>\n",
              "      <td>0</td>\n",
              "      <td>0</td>\n",
              "      <td>0</td>\n",
              "      <td>0</td>\n",
              "      <td>0</td>\n",
              "      <td>0</td>\n",
              "    </tr>\n",
              "    <tr>\n",
              "      <th>1</th>\n",
              "      <td>ID_00008ce3c.png</td>\n",
              "      <td>0</td>\n",
              "      <td>0</td>\n",
              "      <td>0</td>\n",
              "      <td>0</td>\n",
              "      <td>0</td>\n",
              "      <td>0</td>\n",
              "    </tr>\n",
              "    <tr>\n",
              "      <th>2</th>\n",
              "      <td>ID_0000f1657.png</td>\n",
              "      <td>0</td>\n",
              "      <td>0</td>\n",
              "      <td>0</td>\n",
              "      <td>0</td>\n",
              "      <td>0</td>\n",
              "      <td>0</td>\n",
              "    </tr>\n",
              "    <tr>\n",
              "      <th>3</th>\n",
              "      <td>ID_0001f7f62.png</td>\n",
              "      <td>0</td>\n",
              "      <td>0</td>\n",
              "      <td>0</td>\n",
              "      <td>0</td>\n",
              "      <td>0</td>\n",
              "      <td>0</td>\n",
              "    </tr>\n",
              "    <tr>\n",
              "      <th>4</th>\n",
              "      <td>ID_0002108bd.png</td>\n",
              "      <td>0</td>\n",
              "      <td>0</td>\n",
              "      <td>0</td>\n",
              "      <td>0</td>\n",
              "      <td>0</td>\n",
              "      <td>0</td>\n",
              "    </tr>\n",
              "    <tr>\n",
              "      <th>...</th>\n",
              "      <td>...</td>\n",
              "      <td>...</td>\n",
              "      <td>...</td>\n",
              "      <td>...</td>\n",
              "      <td>...</td>\n",
              "      <td>...</td>\n",
              "      <td>...</td>\n",
              "    </tr>\n",
              "    <tr>\n",
              "      <th>310493</th>\n",
              "      <td>ID_ffff5a8be.png</td>\n",
              "      <td>0</td>\n",
              "      <td>0</td>\n",
              "      <td>0</td>\n",
              "      <td>0</td>\n",
              "      <td>0</td>\n",
              "      <td>0</td>\n",
              "    </tr>\n",
              "    <tr>\n",
              "      <th>310494</th>\n",
              "      <td>ID_ffff639f4.png</td>\n",
              "      <td>0</td>\n",
              "      <td>0</td>\n",
              "      <td>0</td>\n",
              "      <td>0</td>\n",
              "      <td>0</td>\n",
              "      <td>0</td>\n",
              "    </tr>\n",
              "    <tr>\n",
              "      <th>310495</th>\n",
              "      <td>ID_ffff80705.png</td>\n",
              "      <td>0</td>\n",
              "      <td>0</td>\n",
              "      <td>0</td>\n",
              "      <td>0</td>\n",
              "      <td>0</td>\n",
              "      <td>0</td>\n",
              "    </tr>\n",
              "    <tr>\n",
              "      <th>310496</th>\n",
              "      <td>ID_ffff82e46.png</td>\n",
              "      <td>0</td>\n",
              "      <td>0</td>\n",
              "      <td>0</td>\n",
              "      <td>0</td>\n",
              "      <td>0</td>\n",
              "      <td>0</td>\n",
              "    </tr>\n",
              "    <tr>\n",
              "      <th>310497</th>\n",
              "      <td>ID_ffffb670a.png</td>\n",
              "      <td>1</td>\n",
              "      <td>0</td>\n",
              "      <td>0</td>\n",
              "      <td>0</td>\n",
              "      <td>1</td>\n",
              "      <td>0</td>\n",
              "    </tr>\n",
              "  </tbody>\n",
              "</table>\n",
              "<p>310498 rows × 7 columns</p>\n",
              "</div>"
            ],
            "text/plain": [
              "type            filename  any  epidural  intraparenchymal  intraventricular  \\\n",
              "0       ID_00005679d.png    0         0                 0                 0   \n",
              "1       ID_00008ce3c.png    0         0                 0                 0   \n",
              "2       ID_0000f1657.png    0         0                 0                 0   \n",
              "3       ID_0001f7f62.png    0         0                 0                 0   \n",
              "4       ID_0002108bd.png    0         0                 0                 0   \n",
              "...                  ...  ...       ...               ...               ...   \n",
              "310493  ID_ffff5a8be.png    0         0                 0                 0   \n",
              "310494  ID_ffff639f4.png    0         0                 0                 0   \n",
              "310495  ID_ffff80705.png    0         0                 0                 0   \n",
              "310496  ID_ffff82e46.png    0         0                 0                 0   \n",
              "310497  ID_ffffb670a.png    1         0                 0                 0   \n",
              "\n",
              "type    subarachnoid  subdural  \n",
              "0                  0         0  \n",
              "1                  0         0  \n",
              "2                  0         0  \n",
              "3                  0         0  \n",
              "4                  0         0  \n",
              "...              ...       ...  \n",
              "310493             0         0  \n",
              "310494             0         0  \n",
              "310495             0         0  \n",
              "310496             0         0  \n",
              "310497             1         0  \n",
              "\n",
              "[310498 rows x 7 columns]"
            ]
          },
          "metadata": {
            "tags": []
          },
          "execution_count": 9
        }
      ]
    },
    {
      "cell_type": "code",
      "metadata": {
        "execution": {
          "iopub.execute_input": "2021-06-13T14:29:13.210174Z",
          "iopub.status.busy": "2021-06-13T14:29:13.175433Z",
          "iopub.status.idle": "2021-06-13T14:29:14.053407Z",
          "shell.execute_reply": "2021-06-13T14:29:14.053830Z",
          "shell.execute_reply.started": "2021-06-13T14:26:14.969912Z"
        },
        "papermill": {
          "duration": 0.934393,
          "end_time": "2021-06-13T14:29:14.053979",
          "exception": false,
          "start_time": "2021-06-13T14:29:13.119586",
          "status": "completed"
        },
        "tags": [],
        "id": "deadly-utilization",
        "outputId": "b4ad0af4-6543-4f83-8f73-93a59c1ba5f2"
      },
      "source": [
        "test_df = sub_df[['Label', 'filename', 'type']].drop_duplicates().pivot(\n",
        "    index='filename', columns='type', values='Label').reset_index()\n",
        "print(test_df.shape)\n",
        "test_df"
      ],
      "id": "deadly-utilization",
      "execution_count": null,
      "outputs": [
        {
          "output_type": "stream",
          "text": [
            "(121232, 7)\n"
          ],
          "name": "stdout"
        },
        {
          "output_type": "execute_result",
          "data": {
            "text/html": [
              "<div>\n",
              "<style scoped>\n",
              "    .dataframe tbody tr th:only-of-type {\n",
              "        vertical-align: middle;\n",
              "    }\n",
              "\n",
              "    .dataframe tbody tr th {\n",
              "        vertical-align: top;\n",
              "    }\n",
              "\n",
              "    .dataframe thead th {\n",
              "        text-align: right;\n",
              "    }\n",
              "</style>\n",
              "<table border=\"1\" class=\"dataframe\">\n",
              "  <thead>\n",
              "    <tr style=\"text-align: right;\">\n",
              "      <th>type</th>\n",
              "      <th>filename</th>\n",
              "      <th>any</th>\n",
              "      <th>epidural</th>\n",
              "      <th>intraparenchymal</th>\n",
              "      <th>intraventricular</th>\n",
              "      <th>subarachnoid</th>\n",
              "      <th>subdural</th>\n",
              "    </tr>\n",
              "  </thead>\n",
              "  <tbody>\n",
              "    <tr>\n",
              "      <th>0</th>\n",
              "      <td>ID_000000e27.png</td>\n",
              "      <td>0.5</td>\n",
              "      <td>0.5</td>\n",
              "      <td>0.5</td>\n",
              "      <td>0.5</td>\n",
              "      <td>0.5</td>\n",
              "      <td>0.5</td>\n",
              "    </tr>\n",
              "    <tr>\n",
              "      <th>1</th>\n",
              "      <td>ID_000009146.png</td>\n",
              "      <td>0.5</td>\n",
              "      <td>0.5</td>\n",
              "      <td>0.5</td>\n",
              "      <td>0.5</td>\n",
              "      <td>0.5</td>\n",
              "      <td>0.5</td>\n",
              "    </tr>\n",
              "    <tr>\n",
              "      <th>2</th>\n",
              "      <td>ID_00007b8cb.png</td>\n",
              "      <td>0.5</td>\n",
              "      <td>0.5</td>\n",
              "      <td>0.5</td>\n",
              "      <td>0.5</td>\n",
              "      <td>0.5</td>\n",
              "      <td>0.5</td>\n",
              "    </tr>\n",
              "    <tr>\n",
              "      <th>3</th>\n",
              "      <td>ID_000134952.png</td>\n",
              "      <td>0.5</td>\n",
              "      <td>0.5</td>\n",
              "      <td>0.5</td>\n",
              "      <td>0.5</td>\n",
              "      <td>0.5</td>\n",
              "      <td>0.5</td>\n",
              "    </tr>\n",
              "    <tr>\n",
              "      <th>4</th>\n",
              "      <td>ID_000176f2a.png</td>\n",
              "      <td>0.5</td>\n",
              "      <td>0.5</td>\n",
              "      <td>0.5</td>\n",
              "      <td>0.5</td>\n",
              "      <td>0.5</td>\n",
              "      <td>0.5</td>\n",
              "    </tr>\n",
              "    <tr>\n",
              "      <th>...</th>\n",
              "      <td>...</td>\n",
              "      <td>...</td>\n",
              "      <td>...</td>\n",
              "      <td>...</td>\n",
              "      <td>...</td>\n",
              "      <td>...</td>\n",
              "      <td>...</td>\n",
              "    </tr>\n",
              "    <tr>\n",
              "      <th>121227</th>\n",
              "      <td>ID_fffb40805.png</td>\n",
              "      <td>0.5</td>\n",
              "      <td>0.5</td>\n",
              "      <td>0.5</td>\n",
              "      <td>0.5</td>\n",
              "      <td>0.5</td>\n",
              "      <td>0.5</td>\n",
              "    </tr>\n",
              "    <tr>\n",
              "      <th>121228</th>\n",
              "      <td>ID_fffc74999.png</td>\n",
              "      <td>0.5</td>\n",
              "      <td>0.5</td>\n",
              "      <td>0.5</td>\n",
              "      <td>0.5</td>\n",
              "      <td>0.5</td>\n",
              "      <td>0.5</td>\n",
              "    </tr>\n",
              "    <tr>\n",
              "      <th>121229</th>\n",
              "      <td>ID_fffd3cc3b.png</td>\n",
              "      <td>0.5</td>\n",
              "      <td>0.5</td>\n",
              "      <td>0.5</td>\n",
              "      <td>0.5</td>\n",
              "      <td>0.5</td>\n",
              "      <td>0.5</td>\n",
              "    </tr>\n",
              "    <tr>\n",
              "      <th>121230</th>\n",
              "      <td>ID_fffdcca96.png</td>\n",
              "      <td>0.5</td>\n",
              "      <td>0.5</td>\n",
              "      <td>0.5</td>\n",
              "      <td>0.5</td>\n",
              "      <td>0.5</td>\n",
              "      <td>0.5</td>\n",
              "    </tr>\n",
              "    <tr>\n",
              "      <th>121231</th>\n",
              "      <td>ID_fffe2c218.png</td>\n",
              "      <td>0.5</td>\n",
              "      <td>0.5</td>\n",
              "      <td>0.5</td>\n",
              "      <td>0.5</td>\n",
              "      <td>0.5</td>\n",
              "      <td>0.5</td>\n",
              "    </tr>\n",
              "  </tbody>\n",
              "</table>\n",
              "<p>121232 rows × 7 columns</p>\n",
              "</div>"
            ],
            "text/plain": [
              "type            filename  any  epidural  intraparenchymal  intraventricular  \\\n",
              "0       ID_000000e27.png  0.5       0.5               0.5               0.5   \n",
              "1       ID_000009146.png  0.5       0.5               0.5               0.5   \n",
              "2       ID_00007b8cb.png  0.5       0.5               0.5               0.5   \n",
              "3       ID_000134952.png  0.5       0.5               0.5               0.5   \n",
              "4       ID_000176f2a.png  0.5       0.5               0.5               0.5   \n",
              "...                  ...  ...       ...               ...               ...   \n",
              "121227  ID_fffb40805.png  0.5       0.5               0.5               0.5   \n",
              "121228  ID_fffc74999.png  0.5       0.5               0.5               0.5   \n",
              "121229  ID_fffd3cc3b.png  0.5       0.5               0.5               0.5   \n",
              "121230  ID_fffdcca96.png  0.5       0.5               0.5               0.5   \n",
              "121231  ID_fffe2c218.png  0.5       0.5               0.5               0.5   \n",
              "\n",
              "type    subarachnoid  subdural  \n",
              "0                0.5       0.5  \n",
              "1                0.5       0.5  \n",
              "2                0.5       0.5  \n",
              "3                0.5       0.5  \n",
              "4                0.5       0.5  \n",
              "...              ...       ...  \n",
              "121227           0.5       0.5  \n",
              "121228           0.5       0.5  \n",
              "121229           0.5       0.5  \n",
              "121230           0.5       0.5  \n",
              "121231           0.5       0.5  \n",
              "\n",
              "[121232 rows x 7 columns]"
            ]
          },
          "metadata": {
            "tags": []
          },
          "execution_count": 14
        }
      ]
    },
    {
      "cell_type": "code",
      "metadata": {
        "execution": {
          "iopub.execute_input": "2021-06-13T14:29:14.164560Z",
          "iopub.status.busy": "2021-06-13T14:29:14.164018Z",
          "iopub.status.idle": "2021-06-13T14:29:15.894465Z",
          "shell.execute_reply": "2021-06-13T14:29:15.893529Z",
          "shell.execute_reply.started": "2021-06-13T14:26:18.233277Z"
        },
        "papermill": {
          "duration": 1.786699,
          "end_time": "2021-06-13T14:29:15.894606",
          "exception": false,
          "start_time": "2021-06-13T14:29:14.107907",
          "status": "completed"
        },
        "tags": [],
        "id": "average-final"
      },
      "source": [
        "np.random.seed(2019)\n",
        "sample_test = np.random.choice(os.listdir(BASE_PATH + TEST_DIR), 20000) \n",
        "test_sample_df = test_df[test_df.filename.apply(lambda x: x.replace('.png', '.dcm')).isin(sample_test)]\n"
      ],
      "id": "average-final",
      "execution_count": null,
      "outputs": []
    },
    {
      "cell_type": "code",
      "metadata": {
        "execution": {
          "iopub.execute_input": "2021-06-13T14:29:16.017606Z",
          "iopub.status.busy": "2021-06-13T14:29:16.016746Z",
          "iopub.status.idle": "2021-06-13T14:29:16.020717Z",
          "shell.execute_reply": "2021-06-13T14:29:16.020275Z",
          "shell.execute_reply.started": "2021-06-13T14:26:20.445037Z"
        },
        "papermill": {
          "duration": 0.071498,
          "end_time": "2021-06-13T14:29:16.020828",
          "exception": false,
          "start_time": "2021-06-13T14:29:15.949330",
          "status": "completed"
        },
        "tags": [],
        "id": "disturbed-spain",
        "outputId": "a00d854d-0cdc-4d81-e794-21571202feae"
      },
      "source": [
        "test_sample_df"
      ],
      "id": "disturbed-spain",
      "execution_count": null,
      "outputs": [
        {
          "output_type": "execute_result",
          "data": {
            "text/html": [
              "<div>\n",
              "<style scoped>\n",
              "    .dataframe tbody tr th:only-of-type {\n",
              "        vertical-align: middle;\n",
              "    }\n",
              "\n",
              "    .dataframe tbody tr th {\n",
              "        vertical-align: top;\n",
              "    }\n",
              "\n",
              "    .dataframe thead th {\n",
              "        text-align: right;\n",
              "    }\n",
              "</style>\n",
              "<table border=\"1\" class=\"dataframe\">\n",
              "  <thead>\n",
              "    <tr style=\"text-align: right;\">\n",
              "      <th>type</th>\n",
              "      <th>filename</th>\n",
              "      <th>any</th>\n",
              "      <th>epidural</th>\n",
              "      <th>intraparenchymal</th>\n",
              "      <th>intraventricular</th>\n",
              "      <th>subarachnoid</th>\n",
              "      <th>subdural</th>\n",
              "    </tr>\n",
              "  </thead>\n",
              "  <tbody>\n",
              "    <tr>\n",
              "      <th>5</th>\n",
              "      <td>ID_0001af484.png</td>\n",
              "      <td>0.5</td>\n",
              "      <td>0.5</td>\n",
              "      <td>0.5</td>\n",
              "      <td>0.5</td>\n",
              "      <td>0.5</td>\n",
              "      <td>0.5</td>\n",
              "    </tr>\n",
              "    <tr>\n",
              "      <th>12</th>\n",
              "      <td>ID_00060ace2.png</td>\n",
              "      <td>0.5</td>\n",
              "      <td>0.5</td>\n",
              "      <td>0.5</td>\n",
              "      <td>0.5</td>\n",
              "      <td>0.5</td>\n",
              "      <td>0.5</td>\n",
              "    </tr>\n",
              "    <tr>\n",
              "      <th>16</th>\n",
              "      <td>ID_000a50137.png</td>\n",
              "      <td>0.5</td>\n",
              "      <td>0.5</td>\n",
              "      <td>0.5</td>\n",
              "      <td>0.5</td>\n",
              "      <td>0.5</td>\n",
              "      <td>0.5</td>\n",
              "    </tr>\n",
              "    <tr>\n",
              "      <th>24</th>\n",
              "      <td>ID_000cfc3de.png</td>\n",
              "      <td>0.5</td>\n",
              "      <td>0.5</td>\n",
              "      <td>0.5</td>\n",
              "      <td>0.5</td>\n",
              "      <td>0.5</td>\n",
              "      <td>0.5</td>\n",
              "    </tr>\n",
              "    <tr>\n",
              "      <th>29</th>\n",
              "      <td>ID_000fa581b.png</td>\n",
              "      <td>0.5</td>\n",
              "      <td>0.5</td>\n",
              "      <td>0.5</td>\n",
              "      <td>0.5</td>\n",
              "      <td>0.5</td>\n",
              "      <td>0.5</td>\n",
              "    </tr>\n",
              "    <tr>\n",
              "      <th>...</th>\n",
              "      <td>...</td>\n",
              "      <td>...</td>\n",
              "      <td>...</td>\n",
              "      <td>...</td>\n",
              "      <td>...</td>\n",
              "      <td>...</td>\n",
              "      <td>...</td>\n",
              "    </tr>\n",
              "    <tr>\n",
              "      <th>121202</th>\n",
              "      <td>ID_fff33fd4d.png</td>\n",
              "      <td>0.5</td>\n",
              "      <td>0.5</td>\n",
              "      <td>0.5</td>\n",
              "      <td>0.5</td>\n",
              "      <td>0.5</td>\n",
              "      <td>0.5</td>\n",
              "    </tr>\n",
              "    <tr>\n",
              "      <th>121212</th>\n",
              "      <td>ID_fff6fc13f.png</td>\n",
              "      <td>0.5</td>\n",
              "      <td>0.5</td>\n",
              "      <td>0.5</td>\n",
              "      <td>0.5</td>\n",
              "      <td>0.5</td>\n",
              "      <td>0.5</td>\n",
              "    </tr>\n",
              "    <tr>\n",
              "      <th>121213</th>\n",
              "      <td>ID_fff6ff09c.png</td>\n",
              "      <td>0.5</td>\n",
              "      <td>0.5</td>\n",
              "      <td>0.5</td>\n",
              "      <td>0.5</td>\n",
              "      <td>0.5</td>\n",
              "      <td>0.5</td>\n",
              "    </tr>\n",
              "    <tr>\n",
              "      <th>121226</th>\n",
              "      <td>ID_fffaf0843.png</td>\n",
              "      <td>0.5</td>\n",
              "      <td>0.5</td>\n",
              "      <td>0.5</td>\n",
              "      <td>0.5</td>\n",
              "      <td>0.5</td>\n",
              "      <td>0.5</td>\n",
              "    </tr>\n",
              "    <tr>\n",
              "      <th>121231</th>\n",
              "      <td>ID_fffe2c218.png</td>\n",
              "      <td>0.5</td>\n",
              "      <td>0.5</td>\n",
              "      <td>0.5</td>\n",
              "      <td>0.5</td>\n",
              "      <td>0.5</td>\n",
              "      <td>0.5</td>\n",
              "    </tr>\n",
              "  </tbody>\n",
              "</table>\n",
              "<p>18509 rows × 7 columns</p>\n",
              "</div>"
            ],
            "text/plain": [
              "type            filename  any  epidural  intraparenchymal  intraventricular  \\\n",
              "5       ID_0001af484.png  0.5       0.5               0.5               0.5   \n",
              "12      ID_00060ace2.png  0.5       0.5               0.5               0.5   \n",
              "16      ID_000a50137.png  0.5       0.5               0.5               0.5   \n",
              "24      ID_000cfc3de.png  0.5       0.5               0.5               0.5   \n",
              "29      ID_000fa581b.png  0.5       0.5               0.5               0.5   \n",
              "...                  ...  ...       ...               ...               ...   \n",
              "121202  ID_fff33fd4d.png  0.5       0.5               0.5               0.5   \n",
              "121212  ID_fff6fc13f.png  0.5       0.5               0.5               0.5   \n",
              "121213  ID_fff6ff09c.png  0.5       0.5               0.5               0.5   \n",
              "121226  ID_fffaf0843.png  0.5       0.5               0.5               0.5   \n",
              "121231  ID_fffe2c218.png  0.5       0.5               0.5               0.5   \n",
              "\n",
              "type    subarachnoid  subdural  \n",
              "5                0.5       0.5  \n",
              "12               0.5       0.5  \n",
              "16               0.5       0.5  \n",
              "24               0.5       0.5  \n",
              "29               0.5       0.5  \n",
              "...              ...       ...  \n",
              "121202           0.5       0.5  \n",
              "121212           0.5       0.5  \n",
              "121213           0.5       0.5  \n",
              "121226           0.5       0.5  \n",
              "121231           0.5       0.5  \n",
              "\n",
              "[18509 rows x 7 columns]"
            ]
          },
          "metadata": {
            "tags": []
          },
          "execution_count": 16
        }
      ]
    },
    {
      "cell_type": "code",
      "metadata": {
        "execution": {
          "iopub.execute_input": "2021-06-13T14:29:16.580275Z",
          "iopub.status.busy": "2021-06-13T14:29:16.579577Z",
          "iopub.status.idle": "2021-06-13T14:29:16.609072Z",
          "shell.execute_reply": "2021-06-13T14:29:16.608676Z",
          "shell.execute_reply.started": "2021-06-13T14:27:07.117933Z"
        },
        "papermill": {
          "duration": 0.086732,
          "end_time": "2021-06-13T14:29:16.609183",
          "exception": false,
          "start_time": "2021-06-13T14:29:16.522451",
          "status": "completed"
        },
        "tags": [],
        "id": "dress-thought",
        "outputId": "99df39cf-b21d-4379-e729-3b9e123d6dfa"
      },
      "source": [
        "validation_df = pivot_df.sample(int(len(pivot_df) * 0.15))  \n",
        "validation_df "
      ],
      "id": "dress-thought",
      "execution_count": null,
      "outputs": [
        {
          "output_type": "execute_result",
          "data": {
            "text/html": [
              "<div>\n",
              "<style scoped>\n",
              "    .dataframe tbody tr th:only-of-type {\n",
              "        vertical-align: middle;\n",
              "    }\n",
              "\n",
              "    .dataframe tbody tr th {\n",
              "        vertical-align: top;\n",
              "    }\n",
              "\n",
              "    .dataframe thead th {\n",
              "        text-align: right;\n",
              "    }\n",
              "</style>\n",
              "<table border=\"1\" class=\"dataframe\">\n",
              "  <thead>\n",
              "    <tr style=\"text-align: right;\">\n",
              "      <th>type</th>\n",
              "      <th>filename</th>\n",
              "      <th>any</th>\n",
              "      <th>epidural</th>\n",
              "      <th>intraparenchymal</th>\n",
              "      <th>intraventricular</th>\n",
              "      <th>subarachnoid</th>\n",
              "      <th>subdural</th>\n",
              "    </tr>\n",
              "  </thead>\n",
              "  <tbody>\n",
              "    <tr>\n",
              "      <th>44011</th>\n",
              "      <td>ID_2445df98e.png</td>\n",
              "      <td>0</td>\n",
              "      <td>0</td>\n",
              "      <td>0</td>\n",
              "      <td>0</td>\n",
              "      <td>0</td>\n",
              "      <td>0</td>\n",
              "    </tr>\n",
              "    <tr>\n",
              "      <th>89151</th>\n",
              "      <td>ID_49ad1664d.png</td>\n",
              "      <td>0</td>\n",
              "      <td>0</td>\n",
              "      <td>0</td>\n",
              "      <td>0</td>\n",
              "      <td>0</td>\n",
              "      <td>0</td>\n",
              "    </tr>\n",
              "    <tr>\n",
              "      <th>97132</th>\n",
              "      <td>ID_50324cad1.png</td>\n",
              "      <td>0</td>\n",
              "      <td>0</td>\n",
              "      <td>0</td>\n",
              "      <td>0</td>\n",
              "      <td>0</td>\n",
              "      <td>0</td>\n",
              "    </tr>\n",
              "    <tr>\n",
              "      <th>264699</th>\n",
              "      <td>ID_da39c7ec3.png</td>\n",
              "      <td>0</td>\n",
              "      <td>0</td>\n",
              "      <td>0</td>\n",
              "      <td>0</td>\n",
              "      <td>0</td>\n",
              "      <td>0</td>\n",
              "    </tr>\n",
              "    <tr>\n",
              "      <th>95553</th>\n",
              "      <td>ID_4eef12b53.png</td>\n",
              "      <td>0</td>\n",
              "      <td>0</td>\n",
              "      <td>0</td>\n",
              "      <td>0</td>\n",
              "      <td>0</td>\n",
              "      <td>0</td>\n",
              "    </tr>\n",
              "    <tr>\n",
              "      <th>...</th>\n",
              "      <td>...</td>\n",
              "      <td>...</td>\n",
              "      <td>...</td>\n",
              "      <td>...</td>\n",
              "      <td>...</td>\n",
              "      <td>...</td>\n",
              "      <td>...</td>\n",
              "    </tr>\n",
              "    <tr>\n",
              "      <th>74854</th>\n",
              "      <td>ID_3dcbfeab0.png</td>\n",
              "      <td>0</td>\n",
              "      <td>0</td>\n",
              "      <td>0</td>\n",
              "      <td>0</td>\n",
              "      <td>0</td>\n",
              "      <td>0</td>\n",
              "    </tr>\n",
              "    <tr>\n",
              "      <th>39978</th>\n",
              "      <td>ID_20ecfc869.png</td>\n",
              "      <td>0</td>\n",
              "      <td>0</td>\n",
              "      <td>0</td>\n",
              "      <td>0</td>\n",
              "      <td>0</td>\n",
              "      <td>0</td>\n",
              "    </tr>\n",
              "    <tr>\n",
              "      <th>124373</th>\n",
              "      <td>ID_66736ee88.png</td>\n",
              "      <td>0</td>\n",
              "      <td>0</td>\n",
              "      <td>0</td>\n",
              "      <td>0</td>\n",
              "      <td>0</td>\n",
              "      <td>0</td>\n",
              "    </tr>\n",
              "    <tr>\n",
              "      <th>137189</th>\n",
              "      <td>ID_711e2ca9d.png</td>\n",
              "      <td>0</td>\n",
              "      <td>0</td>\n",
              "      <td>0</td>\n",
              "      <td>0</td>\n",
              "      <td>0</td>\n",
              "      <td>0</td>\n",
              "    </tr>\n",
              "    <tr>\n",
              "      <th>280303</th>\n",
              "      <td>ID_e734127ec.png</td>\n",
              "      <td>0</td>\n",
              "      <td>0</td>\n",
              "      <td>0</td>\n",
              "      <td>0</td>\n",
              "      <td>0</td>\n",
              "      <td>0</td>\n",
              "    </tr>\n",
              "  </tbody>\n",
              "</table>\n",
              "<p>46574 rows × 7 columns</p>\n",
              "</div>"
            ],
            "text/plain": [
              "type            filename  any  epidural  intraparenchymal  intraventricular  \\\n",
              "44011   ID_2445df98e.png    0         0                 0                 0   \n",
              "89151   ID_49ad1664d.png    0         0                 0                 0   \n",
              "97132   ID_50324cad1.png    0         0                 0                 0   \n",
              "264699  ID_da39c7ec3.png    0         0                 0                 0   \n",
              "95553   ID_4eef12b53.png    0         0                 0                 0   \n",
              "...                  ...  ...       ...               ...               ...   \n",
              "74854   ID_3dcbfeab0.png    0         0                 0                 0   \n",
              "39978   ID_20ecfc869.png    0         0                 0                 0   \n",
              "124373  ID_66736ee88.png    0         0                 0                 0   \n",
              "137189  ID_711e2ca9d.png    0         0                 0                 0   \n",
              "280303  ID_e734127ec.png    0         0                 0                 0   \n",
              "\n",
              "type    subarachnoid  subdural  \n",
              "44011              0         0  \n",
              "89151              0         0  \n",
              "97132              0         0  \n",
              "264699             0         0  \n",
              "95553              0         0  \n",
              "...              ...       ...  \n",
              "74854              0         0  \n",
              "39978              0         0  \n",
              "124373             0         0  \n",
              "137189             0         0  \n",
              "280303             0         0  \n",
              "\n",
              "[46574 rows x 7 columns]"
            ]
          },
          "metadata": {
            "tags": []
          },
          "execution_count": 21
        }
      ]
    },
    {
      "cell_type": "code",
      "metadata": {
        "execution": {
          "iopub.execute_input": "2021-06-13T14:29:16.763721Z",
          "iopub.status.busy": "2021-06-13T14:29:16.738394Z",
          "iopub.status.idle": "2021-06-13T14:29:17.829744Z",
          "shell.execute_reply": "2021-06-13T14:29:17.830140Z",
          "shell.execute_reply.started": "2021-06-13T14:27:10.085240Z"
        },
        "papermill": {
          "duration": 1.168036,
          "end_time": "2021-06-13T14:29:17.830336",
          "exception": false,
          "start_time": "2021-06-13T14:29:16.662300",
          "status": "completed"
        },
        "tags": [],
        "id": "angry-supervision"
      },
      "source": [
        "y_true = []\n",
        "for i in range(len(validation_df)): \n",
        "    y_true.append(validation_df.iloc[i,1])\n",
        "        \n"
      ],
      "id": "angry-supervision",
      "execution_count": null,
      "outputs": []
    },
    {
      "cell_type": "code",
      "metadata": {
        "execution": {
          "iopub.execute_input": "2021-06-13T14:29:17.943782Z",
          "iopub.status.busy": "2021-06-13T14:29:17.943046Z",
          "iopub.status.idle": "2021-06-13T14:29:17.946694Z",
          "shell.execute_reply": "2021-06-13T14:29:17.946274Z",
          "shell.execute_reply.started": "2021-06-13T14:27:11.224907Z"
        },
        "papermill": {
          "duration": 0.061685,
          "end_time": "2021-06-13T14:29:17.946813",
          "exception": false,
          "start_time": "2021-06-13T14:29:17.885128",
          "status": "completed"
        },
        "tags": [],
        "id": "destroyed-beauty",
        "outputId": "1dbca339-62fd-46be-a546-688d7156cf29"
      },
      "source": [
        "len(y_true)"
      ],
      "id": "destroyed-beauty",
      "execution_count": null,
      "outputs": [
        {
          "output_type": "execute_result",
          "data": {
            "text/plain": [
              "46574"
            ]
          },
          "metadata": {
            "tags": []
          },
          "execution_count": 23
        }
      ]
    },
    {
      "cell_type": "code",
      "metadata": {
        "execution": {
          "iopub.execute_input": "2021-06-13T14:29:18.093846Z",
          "iopub.status.busy": "2021-06-13T14:29:18.088730Z",
          "iopub.status.idle": "2021-06-13T14:29:24.863564Z",
          "shell.execute_reply": "2021-06-13T14:29:24.863075Z",
          "shell.execute_reply.started": "2021-06-13T14:27:15.573354Z"
        },
        "papermill": {
          "duration": 6.862136,
          "end_time": "2021-06-13T14:29:24.863694",
          "exception": false,
          "start_time": "2021-06-13T14:29:18.001558",
          "status": "completed"
        },
        "tags": [],
        "id": "wrong-triple"
      },
      "source": [
        "full_true = []\n",
        "for i in range(len(validation_df)): \n",
        "    for j in range(1,7): \n",
        "        full_true.append(validation_df.iloc[i,j])\n",
        "        \n"
      ],
      "id": "wrong-triple",
      "execution_count": null,
      "outputs": []
    },
    {
      "cell_type": "code",
      "metadata": {
        "execution": {
          "iopub.execute_input": "2021-06-13T14:29:24.976271Z",
          "iopub.status.busy": "2021-06-13T14:29:24.975533Z",
          "iopub.status.idle": "2021-06-13T14:29:24.978224Z",
          "shell.execute_reply": "2021-06-13T14:29:24.977798Z",
          "shell.execute_reply.started": "2021-06-12T20:08:00.732129Z"
        },
        "papermill": {
          "duration": 0.059935,
          "end_time": "2021-06-13T14:29:24.978338",
          "exception": false,
          "start_time": "2021-06-13T14:29:24.918403",
          "status": "completed"
        },
        "tags": [],
        "id": "female-nickname"
      },
      "source": [
        "#len(full_true)"
      ],
      "id": "female-nickname",
      "execution_count": null,
      "outputs": []
    },
    {
      "cell_type": "code",
      "metadata": {
        "execution": {
          "iopub.execute_input": "2021-06-13T14:29:25.182247Z",
          "iopub.status.busy": "2021-06-13T14:29:25.181281Z",
          "iopub.status.idle": "2021-06-13T14:29:25.213565Z",
          "shell.execute_reply": "2021-06-13T14:29:25.213983Z",
          "shell.execute_reply.started": "2021-06-13T14:27:41.180204Z"
        },
        "papermill": {
          "duration": 0.182257,
          "end_time": "2021-06-13T14:29:25.214123",
          "exception": false,
          "start_time": "2021-06-13T14:29:25.031866",
          "status": "completed"
        },
        "tags": [],
        "id": "false-finance",
        "outputId": "d4d00da0-ac42-4ec1-ff2a-9f2e26427245"
      },
      "source": [
        "training_df = pivot_df[~(pivot_df.filename.isin(validation_df.filename))]\n",
        "training_df\n"
      ],
      "id": "false-finance",
      "execution_count": null,
      "outputs": [
        {
          "output_type": "execute_result",
          "data": {
            "text/html": [
              "<div>\n",
              "<style scoped>\n",
              "    .dataframe tbody tr th:only-of-type {\n",
              "        vertical-align: middle;\n",
              "    }\n",
              "\n",
              "    .dataframe tbody tr th {\n",
              "        vertical-align: top;\n",
              "    }\n",
              "\n",
              "    .dataframe thead th {\n",
              "        text-align: right;\n",
              "    }\n",
              "</style>\n",
              "<table border=\"1\" class=\"dataframe\">\n",
              "  <thead>\n",
              "    <tr style=\"text-align: right;\">\n",
              "      <th>type</th>\n",
              "      <th>filename</th>\n",
              "      <th>any</th>\n",
              "      <th>epidural</th>\n",
              "      <th>intraparenchymal</th>\n",
              "      <th>intraventricular</th>\n",
              "      <th>subarachnoid</th>\n",
              "      <th>subdural</th>\n",
              "    </tr>\n",
              "  </thead>\n",
              "  <tbody>\n",
              "    <tr>\n",
              "      <th>0</th>\n",
              "      <td>ID_00005679d.png</td>\n",
              "      <td>0</td>\n",
              "      <td>0</td>\n",
              "      <td>0</td>\n",
              "      <td>0</td>\n",
              "      <td>0</td>\n",
              "      <td>0</td>\n",
              "    </tr>\n",
              "    <tr>\n",
              "      <th>2</th>\n",
              "      <td>ID_0000f1657.png</td>\n",
              "      <td>0</td>\n",
              "      <td>0</td>\n",
              "      <td>0</td>\n",
              "      <td>0</td>\n",
              "      <td>0</td>\n",
              "      <td>0</td>\n",
              "    </tr>\n",
              "    <tr>\n",
              "      <th>3</th>\n",
              "      <td>ID_0001f7f62.png</td>\n",
              "      <td>0</td>\n",
              "      <td>0</td>\n",
              "      <td>0</td>\n",
              "      <td>0</td>\n",
              "      <td>0</td>\n",
              "      <td>0</td>\n",
              "    </tr>\n",
              "    <tr>\n",
              "      <th>4</th>\n",
              "      <td>ID_0002108bd.png</td>\n",
              "      <td>0</td>\n",
              "      <td>0</td>\n",
              "      <td>0</td>\n",
              "      <td>0</td>\n",
              "      <td>0</td>\n",
              "      <td>0</td>\n",
              "    </tr>\n",
              "    <tr>\n",
              "      <th>5</th>\n",
              "      <td>ID_000229f2a.png</td>\n",
              "      <td>0</td>\n",
              "      <td>0</td>\n",
              "      <td>0</td>\n",
              "      <td>0</td>\n",
              "      <td>0</td>\n",
              "      <td>0</td>\n",
              "    </tr>\n",
              "    <tr>\n",
              "      <th>...</th>\n",
              "      <td>...</td>\n",
              "      <td>...</td>\n",
              "      <td>...</td>\n",
              "      <td>...</td>\n",
              "      <td>...</td>\n",
              "      <td>...</td>\n",
              "      <td>...</td>\n",
              "    </tr>\n",
              "    <tr>\n",
              "      <th>310493</th>\n",
              "      <td>ID_ffff5a8be.png</td>\n",
              "      <td>0</td>\n",
              "      <td>0</td>\n",
              "      <td>0</td>\n",
              "      <td>0</td>\n",
              "      <td>0</td>\n",
              "      <td>0</td>\n",
              "    </tr>\n",
              "    <tr>\n",
              "      <th>310494</th>\n",
              "      <td>ID_ffff639f4.png</td>\n",
              "      <td>0</td>\n",
              "      <td>0</td>\n",
              "      <td>0</td>\n",
              "      <td>0</td>\n",
              "      <td>0</td>\n",
              "      <td>0</td>\n",
              "    </tr>\n",
              "    <tr>\n",
              "      <th>310495</th>\n",
              "      <td>ID_ffff80705.png</td>\n",
              "      <td>0</td>\n",
              "      <td>0</td>\n",
              "      <td>0</td>\n",
              "      <td>0</td>\n",
              "      <td>0</td>\n",
              "      <td>0</td>\n",
              "    </tr>\n",
              "    <tr>\n",
              "      <th>310496</th>\n",
              "      <td>ID_ffff82e46.png</td>\n",
              "      <td>0</td>\n",
              "      <td>0</td>\n",
              "      <td>0</td>\n",
              "      <td>0</td>\n",
              "      <td>0</td>\n",
              "      <td>0</td>\n",
              "    </tr>\n",
              "    <tr>\n",
              "      <th>310497</th>\n",
              "      <td>ID_ffffb670a.png</td>\n",
              "      <td>1</td>\n",
              "      <td>0</td>\n",
              "      <td>0</td>\n",
              "      <td>0</td>\n",
              "      <td>1</td>\n",
              "      <td>0</td>\n",
              "    </tr>\n",
              "  </tbody>\n",
              "</table>\n",
              "<p>263924 rows × 7 columns</p>\n",
              "</div>"
            ],
            "text/plain": [
              "type            filename  any  epidural  intraparenchymal  intraventricular  \\\n",
              "0       ID_00005679d.png    0         0                 0                 0   \n",
              "2       ID_0000f1657.png    0         0                 0                 0   \n",
              "3       ID_0001f7f62.png    0         0                 0                 0   \n",
              "4       ID_0002108bd.png    0         0                 0                 0   \n",
              "5       ID_000229f2a.png    0         0                 0                 0   \n",
              "...                  ...  ...       ...               ...               ...   \n",
              "310493  ID_ffff5a8be.png    0         0                 0                 0   \n",
              "310494  ID_ffff639f4.png    0         0                 0                 0   \n",
              "310495  ID_ffff80705.png    0         0                 0                 0   \n",
              "310496  ID_ffff82e46.png    0         0                 0                 0   \n",
              "310497  ID_ffffb670a.png    1         0                 0                 0   \n",
              "\n",
              "type    subarachnoid  subdural  \n",
              "0                  0         0  \n",
              "2                  0         0  \n",
              "3                  0         0  \n",
              "4                  0         0  \n",
              "5                  0         0  \n",
              "...              ...       ...  \n",
              "310493             0         0  \n",
              "310494             0         0  \n",
              "310495             0         0  \n",
              "310496             0         0  \n",
              "310497             1         0  \n",
              "\n",
              "[263924 rows x 7 columns]"
            ]
          },
          "metadata": {
            "tags": []
          },
          "execution_count": 26
        }
      ]
    },
    {
      "cell_type": "code",
      "metadata": {
        "execution": {
          "iopub.execute_input": "2021-06-13T14:29:25.331294Z",
          "iopub.status.busy": "2021-06-13T14:29:25.330667Z",
          "iopub.status.idle": "2021-06-13T14:29:25.333716Z",
          "shell.execute_reply": "2021-06-13T14:29:25.334104Z",
          "shell.execute_reply.started": "2021-06-13T14:28:04.213448Z"
        },
        "papermill": {
          "duration": 0.065605,
          "end_time": "2021-06-13T14:29:25.334243",
          "exception": false,
          "start_time": "2021-06-13T14:29:25.268638",
          "status": "completed"
        },
        "tags": [],
        "id": "iraqi-comment",
        "outputId": "f368eb7c-1c49-45ba-ac45-1ee942872940"
      },
      "source": [
        "print(training_df.head())\n",
        "print(validation_df.head())\n"
      ],
      "id": "iraqi-comment",
      "execution_count": null,
      "outputs": [
        {
          "output_type": "stream",
          "text": [
            "type          filename  any  epidural  intraparenchymal  intraventricular  \\\n",
            "0     ID_00005679d.png    0         0                 0                 0   \n",
            "2     ID_0000f1657.png    0         0                 0                 0   \n",
            "3     ID_0001f7f62.png    0         0                 0                 0   \n",
            "4     ID_0002108bd.png    0         0                 0                 0   \n",
            "5     ID_000229f2a.png    0         0                 0                 0   \n",
            "\n",
            "type  subarachnoid  subdural  \n",
            "0                0         0  \n",
            "2                0         0  \n",
            "3                0         0  \n",
            "4                0         0  \n",
            "5                0         0  \n",
            "type            filename  any  epidural  intraparenchymal  intraventricular  \\\n",
            "44011   ID_2445df98e.png    0         0                 0                 0   \n",
            "89151   ID_49ad1664d.png    0         0                 0                 0   \n",
            "97132   ID_50324cad1.png    0         0                 0                 0   \n",
            "264699  ID_da39c7ec3.png    0         0                 0                 0   \n",
            "95553   ID_4eef12b53.png    0         0                 0                 0   \n",
            "\n",
            "type    subarachnoid  subdural  \n",
            "44011              0         0  \n",
            "89151              0         0  \n",
            "97132              0         0  \n",
            "264699             0         0  \n",
            "95553              0         0  \n"
          ],
          "name": "stdout"
        }
      ]
    },
    {
      "cell_type": "code",
      "metadata": {
        "execution": {
          "iopub.execute_input": "2021-06-13T14:29:25.448531Z",
          "iopub.status.busy": "2021-06-13T14:29:25.447875Z",
          "iopub.status.idle": "2021-06-13T14:29:25.450639Z",
          "shell.execute_reply": "2021-06-13T14:29:25.450234Z",
          "shell.execute_reply.started": "2021-06-13T14:28:06.257362Z"
        },
        "papermill": {
          "duration": 0.061974,
          "end_time": "2021-06-13T14:29:25.450745",
          "exception": false,
          "start_time": "2021-06-13T14:29:25.388771",
          "status": "completed"
        },
        "tags": [],
        "id": "ranking-piece"
      },
      "source": [
        "def get_pixels_hu(scan): \n",
        "    image = np.stack([scan.pixel_array])\n",
        "    image = image.astype(np.int16) \n",
        "    \n",
        "    image[image == -2000] = 0\n",
        "    \n",
        "    intercept = scan.RescaleIntercept\n",
        "    slope = scan.RescaleSlope\n",
        "    \n",
        "    if slope != 1: \n",
        "        image = slope * image.astype(np.float64)\n",
        "        image = image.astype(np.int16)\n",
        "    \n",
        "    image += np.int16(intercept) \n",
        "    \n",
        "    return np.array(image, dtype=np.int16)"
      ],
      "id": "ranking-piece",
      "execution_count": null,
      "outputs": []
    },
    {
      "cell_type": "code",
      "metadata": {
        "execution": {
          "iopub.execute_input": "2021-06-13T14:29:25.566927Z",
          "iopub.status.busy": "2021-06-13T14:29:25.566251Z",
          "iopub.status.idle": "2021-06-13T14:29:25.568930Z",
          "shell.execute_reply": "2021-06-13T14:29:25.568444Z",
          "shell.execute_reply.started": "2021-06-13T14:28:07.489191Z"
        },
        "papermill": {
          "duration": 0.063672,
          "end_time": "2021-06-13T14:29:25.569028",
          "exception": false,
          "start_time": "2021-06-13T14:29:25.505356",
          "status": "completed"
        },
        "tags": [],
        "id": "removable-locator"
      },
      "source": [
        "def apply_window(image, center, width):\n",
        "    image = image.copy()\n",
        "    min_value = center - width // 2\n",
        "    max_value = center + width // 2\n",
        "    image[image < min_value] = min_value\n",
        "    image[image > max_value] = max_value\n",
        "    return image\n",
        "\n",
        "\n",
        "def apply_window_policy(image):\n",
        "\n",
        "    image1 = apply_window(image, 40, 80) # brain\n",
        "    image2 = apply_window(image, 80, 200) # subdural\n",
        "    image3 = apply_window(image, 40, 380) # bone\n",
        "    image1 = (image1 - 0) / 80\n",
        "    image2 = (image2 - (-20)) / 200\n",
        "    image3 = (image3 - (-150)) / 380\n",
        "    image = np.array([\n",
        "        image1 - image1.mean(),\n",
        "        image2 - image2.mean(),\n",
        "        image3 - image3.mean(),\n",
        "    ]).transpose(1,2,0)\n",
        "\n",
        "    return image\n",
        "#maybe try a new function "
      ],
      "id": "removable-locator",
      "execution_count": null,
      "outputs": []
    },
    {
      "cell_type": "code",
      "metadata": {
        "execution": {
          "iopub.execute_input": "2021-06-13T14:29:25.684234Z",
          "iopub.status.busy": "2021-06-13T14:29:25.683491Z",
          "iopub.status.idle": "2021-06-13T14:29:25.685582Z",
          "shell.execute_reply": "2021-06-13T14:29:25.686044Z",
          "shell.execute_reply.started": "2021-06-13T14:28:08.591740Z"
        },
        "papermill": {
          "duration": 0.062729,
          "end_time": "2021-06-13T14:29:25.686155",
          "exception": false,
          "start_time": "2021-06-13T14:29:25.623426",
          "status": "completed"
        },
        "tags": [],
        "id": "urban-surveillance"
      },
      "source": [
        "def save_and_resize(filenames, load_dir):    \n",
        "    save_dir = '/kaggle/tmp/'\n",
        "    if not os.path.exists(save_dir):\n",
        "        os.makedirs(save_dir)\n",
        "\n",
        "    for filename in tqdm(filenames):\n",
        "        try:\n",
        "            path = load_dir + filename\n",
        "            new_path = save_dir + filename.replace('.dcm', '.png')\n",
        "            dcm = pydicom.dcmread(path)\n",
        "            image = get_pixels_hu(dcm)\n",
        "            image = apply_window_policy(image[0])\n",
        "            image -= image.min((0,1))\n",
        "            image = (255*image).astype(np.uint8)\n",
        "            image = cv2.resize(image, (299, 299)) #smaller\n",
        "            res = cv2.imwrite(new_path, image)\n",
        "            \n",
        "        except ValueError:\n",
        "            continue # it returns a black image, super weird "
      ],
      "id": "urban-surveillance",
      "execution_count": null,
      "outputs": []
    },
    {
      "cell_type": "code",
      "metadata": {
        "execution": {
          "iopub.execute_input": "2021-06-13T14:29:25.798541Z",
          "iopub.status.busy": "2021-06-13T14:29:25.797755Z",
          "iopub.status.idle": "2021-06-13T17:27:14.524556Z",
          "shell.execute_reply": "2021-06-13T17:27:14.365441Z"
        },
        "papermill": {
          "duration": 10668.784207,
          "end_time": "2021-06-13T17:27:14.524758",
          "exception": false,
          "start_time": "2021-06-13T14:29:25.740551",
          "status": "completed"
        },
        "tags": [],
        "id": "answering-track",
        "outputId": "1f2c7726-8fda-4600-e4aa-9bbec52da081"
      },
      "source": [
        "save_and_resize(filenames=sample_files, load_dir=BASE_PATH + TRAIN_DIR)\n",
        "save_and_resize(filenames=sample_test, load_dir=BASE_PATH + TEST_DIR)"
      ],
      "id": "answering-track",
      "execution_count": null,
      "outputs": [
        {
          "output_type": "stream",
          "text": [
            "100%|██████████| 400000/400000 [2:49:52<00:00, 39.24it/s]\n",
            "100%|██████████| 20000/20000 [07:47<00:00, 42.75it/s]\n"
          ],
          "name": "stderr"
        }
      ]
    },
    {
      "cell_type": "code",
      "metadata": {
        "execution": {
          "iopub.execute_input": "2021-06-13T17:28:01.776183Z",
          "iopub.status.busy": "2021-06-13T17:28:01.774526Z",
          "iopub.status.idle": "2021-06-13T17:28:01.776900Z",
          "shell.execute_reply": "2021-06-13T17:28:01.777311Z",
          "shell.execute_reply.started": "2021-06-13T13:35:44.189797Z"
        },
        "papermill": {
          "duration": 23.304505,
          "end_time": "2021-06-13T17:28:01.777451",
          "exception": false,
          "start_time": "2021-06-13T17:27:38.472946",
          "status": "completed"
        },
        "tags": [],
        "id": "soviet-imagination"
      },
      "source": [
        "def create_model():    \n",
        "    base_model = Xception(weights = 'imagenet', include_top = False, input_shape = (299,299,3))\n",
        "    x = base_model.output\n",
        "    x = GlobalAveragePooling2D()(x)\n",
        "    x = Dropout(0.15)(x)\n",
        "    y_pred = Dense(6, activation = 'sigmoid')(x)\n",
        "\n",
        "    return Model(inputs = base_model.input, outputs = y_pred)"
      ],
      "id": "soviet-imagination",
      "execution_count": null,
      "outputs": []
    },
    {
      "cell_type": "code",
      "metadata": {
        "execution": {
          "iopub.execute_input": "2021-06-13T17:28:49.529591Z",
          "iopub.status.busy": "2021-06-13T17:28:49.528996Z",
          "iopub.status.idle": "2021-06-13T17:28:56.015683Z",
          "shell.execute_reply": "2021-06-13T17:28:56.014717Z",
          "shell.execute_reply.started": "2021-06-13T13:35:46.654251Z"
        },
        "papermill": {
          "duration": 30.178224,
          "end_time": "2021-06-13T17:28:56.015834",
          "exception": false,
          "start_time": "2021-06-13T17:28:25.837610",
          "status": "completed"
        },
        "tags": [],
        "id": "absolute-anderson",
        "outputId": "5d3f3032-c834-46e3-81a7-7895ddb3a6d0"
      },
      "source": [
        "LR = 0.00005\n",
        "model = create_model()"
      ],
      "id": "absolute-anderson",
      "execution_count": null,
      "outputs": [
        {
          "output_type": "stream",
          "text": [
            "Downloading data from https://storage.googleapis.com/tensorflow/keras-applications/xception/xception_weights_tf_dim_ordering_tf_kernels_notop.h5\n",
            "83689472/83683744 [==============================] - 2s 0us/step\n"
          ],
          "name": "stdout"
        }
      ]
    },
    {
      "cell_type": "code",
      "metadata": {
        "execution": {
          "iopub.execute_input": "2021-06-13T17:30:31.447302Z",
          "iopub.status.busy": "2021-06-13T17:30:31.446468Z",
          "iopub.status.idle": "2021-06-13T17:30:31.462934Z",
          "shell.execute_reply": "2021-06-13T17:30:31.462471Z",
          "shell.execute_reply.started": "2021-06-13T13:35:52.725104Z"
        },
        "papermill": {
          "duration": 23.885756,
          "end_time": "2021-06-13T17:30:31.463048",
          "exception": false,
          "start_time": "2021-06-13T17:30:07.577292",
          "status": "completed"
        },
        "tags": [],
        "id": "considerable-fundamental"
      },
      "source": [
        "model.compile(optimizer = Adam(learning_rate = LR), \n",
        "              loss = 'binary_crossentropy', # <- requires balance/ Binary for unbalanced\n",
        "              metrics = [tf.keras.metrics.AUC()]) #run both "
      ],
      "id": "considerable-fundamental",
      "execution_count": null,
      "outputs": []
    },
    {
      "cell_type": "code",
      "metadata": {
        "execution": {
          "iopub.execute_input": "2021-06-13T17:31:18.706897Z",
          "iopub.status.busy": "2021-06-13T17:31:18.705405Z",
          "iopub.status.idle": "2021-06-13T17:31:18.707686Z",
          "shell.execute_reply": "2021-06-13T17:31:18.708142Z",
          "shell.execute_reply.started": "2021-06-12T09:10:09.144022Z"
        },
        "papermill": {
          "duration": 23.370822,
          "end_time": "2021-06-13T17:31:18.708293",
          "exception": false,
          "start_time": "2021-06-13T17:30:55.337471",
          "status": "completed"
        },
        "tags": [],
        "id": "blessed-syracuse"
      },
      "source": [
        "from keras_preprocessing.image import ImageDataGenerator"
      ],
      "id": "blessed-syracuse",
      "execution_count": null,
      "outputs": []
    },
    {
      "cell_type": "code",
      "metadata": {
        "execution": {
          "iopub.execute_input": "2021-06-13T17:32:06.543651Z",
          "iopub.status.busy": "2021-06-13T17:32:06.542226Z",
          "iopub.status.idle": "2021-06-13T17:32:11.722381Z",
          "shell.execute_reply": "2021-06-13T17:32:11.721771Z",
          "shell.execute_reply.started": "2021-06-13T13:35:52.744063Z"
        },
        "papermill": {
          "duration": 29.160622,
          "end_time": "2021-06-13T17:32:11.722547",
          "exception": false,
          "start_time": "2021-06-13T17:31:42.561925",
          "status": "completed"
        },
        "tags": [],
        "id": "funny-champion",
        "outputId": "564b0387-a493-4773-99d3-e70bfa4e9e57"
      },
      "source": [
        "BATCH_SIZE = 16 # had to revert back to 16 to have a comparaison point with the large model I ran locally \n",
        "\n",
        "def create_datagen():\n",
        "    return ImageDataGenerator()\n",
        "\n",
        "def create_test_gen():\n",
        "    return ImageDataGenerator().flow_from_dataframe(\n",
        "        test_sample_df,\n",
        "        directory=  '/kaggle/tmp/',\n",
        "        x_col='filename',\n",
        "        class_mode=None,\n",
        "        target_size=(299, 299),\n",
        "        batch_size=BATCH_SIZE,\n",
        "        shuffle=False\n",
        "    )\n",
        "\n",
        "def create_train_gen(datagen):\n",
        "    return datagen.flow_from_dataframe(\n",
        "        training_df, \n",
        "        directory='/kaggle/tmp/',\n",
        "        \n",
        "        x_col='filename', \n",
        "        y_col=['any', 'epidural', 'intraparenchymal', \n",
        "               'intraventricular', 'subarachnoid', 'subdural'],\n",
        "        class_mode='raw',\n",
        "        target_size=(299, 299),\n",
        "        batch_size=BATCH_SIZE,\n",
        "        \n",
        "       \n",
        "    )\n",
        "def create_val_gen(datagen): \n",
        "    return datagen.flow_from_dataframe(\n",
        "        validation_df, \n",
        "        directory='/kaggle/tmp/',\n",
        "        \n",
        "        x_col='filename', \n",
        "        y_col=['any', 'epidural', 'intraparenchymal', \n",
        "               'intraventricular', 'subarachnoid', 'subdural'],\n",
        "        class_mode='raw',\n",
        "        target_size=(299, 299),\n",
        "        batch_size=BATCH_SIZE,\n",
        "        shuffle=False,\n",
        "        \n",
        "    )\n",
        "\n",
        "# Using original generator\n",
        "data_generator = create_datagen()\n",
        "train_gen = create_train_gen(data_generator)\n",
        "val_gen = create_val_gen(data_generator)\n",
        "test_gen = create_test_gen()"
      ],
      "id": "funny-champion",
      "execution_count": null,
      "outputs": [
        {
          "output_type": "stream",
          "text": [
            "/opt/conda/lib/python3.7/site-packages/keras_preprocessing/image/dataframe_iterator.py:282: UserWarning: Found 1 invalid image filename(s) in x_col=\"filename\". These filename(s) will be ignored.\n",
            "  .format(n_invalid, x_col)\n"
          ],
          "name": "stderr"
        },
        {
          "output_type": "stream",
          "text": [
            "Found 263923 validated image filenames.\n",
            "Found 46574 validated image filenames.\n",
            "Found 18509 validated image filenames.\n"
          ],
          "name": "stdout"
        }
      ]
    },
    {
      "cell_type": "code",
      "metadata": {
        "execution": {
          "iopub.execute_input": "2021-06-13T17:32:59.120075Z",
          "iopub.status.busy": "2021-06-13T17:32:59.119333Z",
          "iopub.status.idle": "2021-06-13T17:32:59.215327Z",
          "shell.execute_reply": "2021-06-13T17:32:59.215727Z",
          "shell.execute_reply.started": "2021-06-12T09:10:09.190827Z"
        },
        "papermill": {
          "duration": 23.700344,
          "end_time": "2021-06-13T17:32:59.215883",
          "exception": false,
          "start_time": "2021-06-13T17:32:35.515539",
          "status": "completed"
        },
        "tags": [],
        "id": "clear-finland",
        "outputId": "1507da45-fc52-4dc4-d650-6164683eb104"
      },
      "source": [
        "model.summary()"
      ],
      "id": "clear-finland",
      "execution_count": null,
      "outputs": [
        {
          "output_type": "stream",
          "text": [
            "Model: \"model\"\n",
            "__________________________________________________________________________________________________\n",
            "Layer (type)                    Output Shape         Param #     Connected to                     \n",
            "==================================================================================================\n",
            "input_1 (InputLayer)            [(None, 299, 299, 3) 0                                            \n",
            "__________________________________________________________________________________________________\n",
            "block1_conv1 (Conv2D)           (None, 149, 149, 32) 864         input_1[0][0]                    \n",
            "__________________________________________________________________________________________________\n",
            "block1_conv1_bn (BatchNormaliza (None, 149, 149, 32) 128         block1_conv1[0][0]               \n",
            "__________________________________________________________________________________________________\n",
            "block1_conv1_act (Activation)   (None, 149, 149, 32) 0           block1_conv1_bn[0][0]            \n",
            "__________________________________________________________________________________________________\n",
            "block1_conv2 (Conv2D)           (None, 147, 147, 64) 18432       block1_conv1_act[0][0]           \n",
            "__________________________________________________________________________________________________\n",
            "block1_conv2_bn (BatchNormaliza (None, 147, 147, 64) 256         block1_conv2[0][0]               \n",
            "__________________________________________________________________________________________________\n",
            "block1_conv2_act (Activation)   (None, 147, 147, 64) 0           block1_conv2_bn[0][0]            \n",
            "__________________________________________________________________________________________________\n",
            "block2_sepconv1 (SeparableConv2 (None, 147, 147, 128 8768        block1_conv2_act[0][0]           \n",
            "__________________________________________________________________________________________________\n",
            "block2_sepconv1_bn (BatchNormal (None, 147, 147, 128 512         block2_sepconv1[0][0]            \n",
            "__________________________________________________________________________________________________\n",
            "block2_sepconv2_act (Activation (None, 147, 147, 128 0           block2_sepconv1_bn[0][0]         \n",
            "__________________________________________________________________________________________________\n",
            "block2_sepconv2 (SeparableConv2 (None, 147, 147, 128 17536       block2_sepconv2_act[0][0]        \n",
            "__________________________________________________________________________________________________\n",
            "block2_sepconv2_bn (BatchNormal (None, 147, 147, 128 512         block2_sepconv2[0][0]            \n",
            "__________________________________________________________________________________________________\n",
            "conv2d (Conv2D)                 (None, 74, 74, 128)  8192        block1_conv2_act[0][0]           \n",
            "__________________________________________________________________________________________________\n",
            "block2_pool (MaxPooling2D)      (None, 74, 74, 128)  0           block2_sepconv2_bn[0][0]         \n",
            "__________________________________________________________________________________________________\n",
            "batch_normalization (BatchNorma (None, 74, 74, 128)  512         conv2d[0][0]                     \n",
            "__________________________________________________________________________________________________\n",
            "add (Add)                       (None, 74, 74, 128)  0           block2_pool[0][0]                \n",
            "                                                                 batch_normalization[0][0]        \n",
            "__________________________________________________________________________________________________\n",
            "block3_sepconv1_act (Activation (None, 74, 74, 128)  0           add[0][0]                        \n",
            "__________________________________________________________________________________________________\n",
            "block3_sepconv1 (SeparableConv2 (None, 74, 74, 256)  33920       block3_sepconv1_act[0][0]        \n",
            "__________________________________________________________________________________________________\n",
            "block3_sepconv1_bn (BatchNormal (None, 74, 74, 256)  1024        block3_sepconv1[0][0]            \n",
            "__________________________________________________________________________________________________\n",
            "block3_sepconv2_act (Activation (None, 74, 74, 256)  0           block3_sepconv1_bn[0][0]         \n",
            "__________________________________________________________________________________________________\n",
            "block3_sepconv2 (SeparableConv2 (None, 74, 74, 256)  67840       block3_sepconv2_act[0][0]        \n",
            "__________________________________________________________________________________________________\n",
            "block3_sepconv2_bn (BatchNormal (None, 74, 74, 256)  1024        block3_sepconv2[0][0]            \n",
            "__________________________________________________________________________________________________\n",
            "conv2d_1 (Conv2D)               (None, 37, 37, 256)  32768       add[0][0]                        \n",
            "__________________________________________________________________________________________________\n",
            "block3_pool (MaxPooling2D)      (None, 37, 37, 256)  0           block3_sepconv2_bn[0][0]         \n",
            "__________________________________________________________________________________________________\n",
            "batch_normalization_1 (BatchNor (None, 37, 37, 256)  1024        conv2d_1[0][0]                   \n",
            "__________________________________________________________________________________________________\n",
            "add_1 (Add)                     (None, 37, 37, 256)  0           block3_pool[0][0]                \n",
            "                                                                 batch_normalization_1[0][0]      \n",
            "__________________________________________________________________________________________________\n",
            "block4_sepconv1_act (Activation (None, 37, 37, 256)  0           add_1[0][0]                      \n",
            "__________________________________________________________________________________________________\n",
            "block4_sepconv1 (SeparableConv2 (None, 37, 37, 728)  188672      block4_sepconv1_act[0][0]        \n",
            "__________________________________________________________________________________________________\n",
            "block4_sepconv1_bn (BatchNormal (None, 37, 37, 728)  2912        block4_sepconv1[0][0]            \n",
            "__________________________________________________________________________________________________\n",
            "block4_sepconv2_act (Activation (None, 37, 37, 728)  0           block4_sepconv1_bn[0][0]         \n",
            "__________________________________________________________________________________________________\n",
            "block4_sepconv2 (SeparableConv2 (None, 37, 37, 728)  536536      block4_sepconv2_act[0][0]        \n",
            "__________________________________________________________________________________________________\n",
            "block4_sepconv2_bn (BatchNormal (None, 37, 37, 728)  2912        block4_sepconv2[0][0]            \n",
            "__________________________________________________________________________________________________\n",
            "conv2d_2 (Conv2D)               (None, 19, 19, 728)  186368      add_1[0][0]                      \n",
            "__________________________________________________________________________________________________\n",
            "block4_pool (MaxPooling2D)      (None, 19, 19, 728)  0           block4_sepconv2_bn[0][0]         \n",
            "__________________________________________________________________________________________________\n",
            "batch_normalization_2 (BatchNor (None, 19, 19, 728)  2912        conv2d_2[0][0]                   \n",
            "__________________________________________________________________________________________________\n",
            "add_2 (Add)                     (None, 19, 19, 728)  0           block4_pool[0][0]                \n",
            "                                                                 batch_normalization_2[0][0]      \n",
            "__________________________________________________________________________________________________\n",
            "block5_sepconv1_act (Activation (None, 19, 19, 728)  0           add_2[0][0]                      \n",
            "__________________________________________________________________________________________________\n",
            "block5_sepconv1 (SeparableConv2 (None, 19, 19, 728)  536536      block5_sepconv1_act[0][0]        \n",
            "__________________________________________________________________________________________________\n",
            "block5_sepconv1_bn (BatchNormal (None, 19, 19, 728)  2912        block5_sepconv1[0][0]            \n",
            "__________________________________________________________________________________________________\n",
            "block5_sepconv2_act (Activation (None, 19, 19, 728)  0           block5_sepconv1_bn[0][0]         \n",
            "__________________________________________________________________________________________________\n",
            "block5_sepconv2 (SeparableConv2 (None, 19, 19, 728)  536536      block5_sepconv2_act[0][0]        \n",
            "__________________________________________________________________________________________________\n",
            "block5_sepconv2_bn (BatchNormal (None, 19, 19, 728)  2912        block5_sepconv2[0][0]            \n",
            "__________________________________________________________________________________________________\n",
            "block5_sepconv3_act (Activation (None, 19, 19, 728)  0           block5_sepconv2_bn[0][0]         \n",
            "__________________________________________________________________________________________________\n",
            "block5_sepconv3 (SeparableConv2 (None, 19, 19, 728)  536536      block5_sepconv3_act[0][0]        \n",
            "__________________________________________________________________________________________________\n",
            "block5_sepconv3_bn (BatchNormal (None, 19, 19, 728)  2912        block5_sepconv3[0][0]            \n",
            "__________________________________________________________________________________________________\n",
            "add_3 (Add)                     (None, 19, 19, 728)  0           block5_sepconv3_bn[0][0]         \n",
            "                                                                 add_2[0][0]                      \n",
            "__________________________________________________________________________________________________\n",
            "block6_sepconv1_act (Activation (None, 19, 19, 728)  0           add_3[0][0]                      \n",
            "__________________________________________________________________________________________________\n",
            "block6_sepconv1 (SeparableConv2 (None, 19, 19, 728)  536536      block6_sepconv1_act[0][0]        \n",
            "__________________________________________________________________________________________________\n",
            "block6_sepconv1_bn (BatchNormal (None, 19, 19, 728)  2912        block6_sepconv1[0][0]            \n",
            "__________________________________________________________________________________________________\n",
            "block6_sepconv2_act (Activation (None, 19, 19, 728)  0           block6_sepconv1_bn[0][0]         \n",
            "__________________________________________________________________________________________________\n",
            "block6_sepconv2 (SeparableConv2 (None, 19, 19, 728)  536536      block6_sepconv2_act[0][0]        \n",
            "__________________________________________________________________________________________________\n",
            "block6_sepconv2_bn (BatchNormal (None, 19, 19, 728)  2912        block6_sepconv2[0][0]            \n",
            "__________________________________________________________________________________________________\n",
            "block6_sepconv3_act (Activation (None, 19, 19, 728)  0           block6_sepconv2_bn[0][0]         \n",
            "__________________________________________________________________________________________________\n",
            "block6_sepconv3 (SeparableConv2 (None, 19, 19, 728)  536536      block6_sepconv3_act[0][0]        \n",
            "__________________________________________________________________________________________________\n",
            "block6_sepconv3_bn (BatchNormal (None, 19, 19, 728)  2912        block6_sepconv3[0][0]            \n",
            "__________________________________________________________________________________________________\n",
            "add_4 (Add)                     (None, 19, 19, 728)  0           block6_sepconv3_bn[0][0]         \n",
            "                                                                 add_3[0][0]                      \n",
            "__________________________________________________________________________________________________\n",
            "block7_sepconv1_act (Activation (None, 19, 19, 728)  0           add_4[0][0]                      \n",
            "__________________________________________________________________________________________________\n",
            "block7_sepconv1 (SeparableConv2 (None, 19, 19, 728)  536536      block7_sepconv1_act[0][0]        \n",
            "__________________________________________________________________________________________________\n",
            "block7_sepconv1_bn (BatchNormal (None, 19, 19, 728)  2912        block7_sepconv1[0][0]            \n",
            "__________________________________________________________________________________________________\n",
            "block7_sepconv2_act (Activation (None, 19, 19, 728)  0           block7_sepconv1_bn[0][0]         \n",
            "__________________________________________________________________________________________________\n",
            "block7_sepconv2 (SeparableConv2 (None, 19, 19, 728)  536536      block7_sepconv2_act[0][0]        \n",
            "__________________________________________________________________________________________________\n",
            "block7_sepconv2_bn (BatchNormal (None, 19, 19, 728)  2912        block7_sepconv2[0][0]            \n",
            "__________________________________________________________________________________________________\n",
            "block7_sepconv3_act (Activation (None, 19, 19, 728)  0           block7_sepconv2_bn[0][0]         \n",
            "__________________________________________________________________________________________________\n",
            "block7_sepconv3 (SeparableConv2 (None, 19, 19, 728)  536536      block7_sepconv3_act[0][0]        \n",
            "__________________________________________________________________________________________________\n",
            "block7_sepconv3_bn (BatchNormal (None, 19, 19, 728)  2912        block7_sepconv3[0][0]            \n",
            "__________________________________________________________________________________________________\n",
            "add_5 (Add)                     (None, 19, 19, 728)  0           block7_sepconv3_bn[0][0]         \n",
            "                                                                 add_4[0][0]                      \n",
            "__________________________________________________________________________________________________\n",
            "block8_sepconv1_act (Activation (None, 19, 19, 728)  0           add_5[0][0]                      \n",
            "__________________________________________________________________________________________________\n",
            "block8_sepconv1 (SeparableConv2 (None, 19, 19, 728)  536536      block8_sepconv1_act[0][0]        \n",
            "__________________________________________________________________________________________________\n",
            "block8_sepconv1_bn (BatchNormal (None, 19, 19, 728)  2912        block8_sepconv1[0][0]            \n",
            "__________________________________________________________________________________________________\n",
            "block8_sepconv2_act (Activation (None, 19, 19, 728)  0           block8_sepconv1_bn[0][0]         \n",
            "__________________________________________________________________________________________________\n",
            "block8_sepconv2 (SeparableConv2 (None, 19, 19, 728)  536536      block8_sepconv2_act[0][0]        \n",
            "__________________________________________________________________________________________________\n",
            "block8_sepconv2_bn (BatchNormal (None, 19, 19, 728)  2912        block8_sepconv2[0][0]            \n",
            "__________________________________________________________________________________________________\n",
            "block8_sepconv3_act (Activation (None, 19, 19, 728)  0           block8_sepconv2_bn[0][0]         \n",
            "__________________________________________________________________________________________________\n",
            "block8_sepconv3 (SeparableConv2 (None, 19, 19, 728)  536536      block8_sepconv3_act[0][0]        \n",
            "__________________________________________________________________________________________________\n",
            "block8_sepconv3_bn (BatchNormal (None, 19, 19, 728)  2912        block8_sepconv3[0][0]            \n",
            "__________________________________________________________________________________________________\n",
            "add_6 (Add)                     (None, 19, 19, 728)  0           block8_sepconv3_bn[0][0]         \n",
            "                                                                 add_5[0][0]                      \n",
            "__________________________________________________________________________________________________\n",
            "block9_sepconv1_act (Activation (None, 19, 19, 728)  0           add_6[0][0]                      \n",
            "__________________________________________________________________________________________________\n",
            "block9_sepconv1 (SeparableConv2 (None, 19, 19, 728)  536536      block9_sepconv1_act[0][0]        \n",
            "__________________________________________________________________________________________________\n",
            "block9_sepconv1_bn (BatchNormal (None, 19, 19, 728)  2912        block9_sepconv1[0][0]            \n",
            "__________________________________________________________________________________________________\n",
            "block9_sepconv2_act (Activation (None, 19, 19, 728)  0           block9_sepconv1_bn[0][0]         \n",
            "__________________________________________________________________________________________________\n",
            "block9_sepconv2 (SeparableConv2 (None, 19, 19, 728)  536536      block9_sepconv2_act[0][0]        \n",
            "__________________________________________________________________________________________________\n",
            "block9_sepconv2_bn (BatchNormal (None, 19, 19, 728)  2912        block9_sepconv2[0][0]            \n",
            "__________________________________________________________________________________________________\n",
            "block9_sepconv3_act (Activation (None, 19, 19, 728)  0           block9_sepconv2_bn[0][0]         \n",
            "__________________________________________________________________________________________________\n",
            "block9_sepconv3 (SeparableConv2 (None, 19, 19, 728)  536536      block9_sepconv3_act[0][0]        \n",
            "__________________________________________________________________________________________________\n",
            "block9_sepconv3_bn (BatchNormal (None, 19, 19, 728)  2912        block9_sepconv3[0][0]            \n",
            "__________________________________________________________________________________________________\n",
            "add_7 (Add)                     (None, 19, 19, 728)  0           block9_sepconv3_bn[0][0]         \n",
            "                                                                 add_6[0][0]                      \n",
            "__________________________________________________________________________________________________\n",
            "block10_sepconv1_act (Activatio (None, 19, 19, 728)  0           add_7[0][0]                      \n",
            "__________________________________________________________________________________________________\n",
            "block10_sepconv1 (SeparableConv (None, 19, 19, 728)  536536      block10_sepconv1_act[0][0]       \n",
            "__________________________________________________________________________________________________\n",
            "block10_sepconv1_bn (BatchNorma (None, 19, 19, 728)  2912        block10_sepconv1[0][0]           \n",
            "__________________________________________________________________________________________________\n",
            "block10_sepconv2_act (Activatio (None, 19, 19, 728)  0           block10_sepconv1_bn[0][0]        \n",
            "__________________________________________________________________________________________________\n",
            "block10_sepconv2 (SeparableConv (None, 19, 19, 728)  536536      block10_sepconv2_act[0][0]       \n",
            "__________________________________________________________________________________________________\n",
            "block10_sepconv2_bn (BatchNorma (None, 19, 19, 728)  2912        block10_sepconv2[0][0]           \n",
            "__________________________________________________________________________________________________\n",
            "block10_sepconv3_act (Activatio (None, 19, 19, 728)  0           block10_sepconv2_bn[0][0]        \n",
            "__________________________________________________________________________________________________\n",
            "block10_sepconv3 (SeparableConv (None, 19, 19, 728)  536536      block10_sepconv3_act[0][0]       \n",
            "__________________________________________________________________________________________________\n",
            "block10_sepconv3_bn (BatchNorma (None, 19, 19, 728)  2912        block10_sepconv3[0][0]           \n",
            "__________________________________________________________________________________________________\n",
            "add_8 (Add)                     (None, 19, 19, 728)  0           block10_sepconv3_bn[0][0]        \n",
            "                                                                 add_7[0][0]                      \n",
            "__________________________________________________________________________________________________\n",
            "block11_sepconv1_act (Activatio (None, 19, 19, 728)  0           add_8[0][0]                      \n",
            "__________________________________________________________________________________________________\n",
            "block11_sepconv1 (SeparableConv (None, 19, 19, 728)  536536      block11_sepconv1_act[0][0]       \n",
            "__________________________________________________________________________________________________\n",
            "block11_sepconv1_bn (BatchNorma (None, 19, 19, 728)  2912        block11_sepconv1[0][0]           \n",
            "__________________________________________________________________________________________________\n",
            "block11_sepconv2_act (Activatio (None, 19, 19, 728)  0           block11_sepconv1_bn[0][0]        \n",
            "__________________________________________________________________________________________________\n",
            "block11_sepconv2 (SeparableConv (None, 19, 19, 728)  536536      block11_sepconv2_act[0][0]       \n",
            "__________________________________________________________________________________________________\n",
            "block11_sepconv2_bn (BatchNorma (None, 19, 19, 728)  2912        block11_sepconv2[0][0]           \n",
            "__________________________________________________________________________________________________\n",
            "block11_sepconv3_act (Activatio (None, 19, 19, 728)  0           block11_sepconv2_bn[0][0]        \n",
            "__________________________________________________________________________________________________\n",
            "block11_sepconv3 (SeparableConv (None, 19, 19, 728)  536536      block11_sepconv3_act[0][0]       \n",
            "__________________________________________________________________________________________________\n",
            "block11_sepconv3_bn (BatchNorma (None, 19, 19, 728)  2912        block11_sepconv3[0][0]           \n",
            "__________________________________________________________________________________________________\n",
            "add_9 (Add)                     (None, 19, 19, 728)  0           block11_sepconv3_bn[0][0]        \n",
            "                                                                 add_8[0][0]                      \n",
            "__________________________________________________________________________________________________\n",
            "block12_sepconv1_act (Activatio (None, 19, 19, 728)  0           add_9[0][0]                      \n",
            "__________________________________________________________________________________________________\n",
            "block12_sepconv1 (SeparableConv (None, 19, 19, 728)  536536      block12_sepconv1_act[0][0]       \n",
            "__________________________________________________________________________________________________\n",
            "block12_sepconv1_bn (BatchNorma (None, 19, 19, 728)  2912        block12_sepconv1[0][0]           \n",
            "__________________________________________________________________________________________________\n",
            "block12_sepconv2_act (Activatio (None, 19, 19, 728)  0           block12_sepconv1_bn[0][0]        \n",
            "__________________________________________________________________________________________________\n",
            "block12_sepconv2 (SeparableConv (None, 19, 19, 728)  536536      block12_sepconv2_act[0][0]       \n",
            "__________________________________________________________________________________________________\n",
            "block12_sepconv2_bn (BatchNorma (None, 19, 19, 728)  2912        block12_sepconv2[0][0]           \n",
            "__________________________________________________________________________________________________\n",
            "block12_sepconv3_act (Activatio (None, 19, 19, 728)  0           block12_sepconv2_bn[0][0]        \n",
            "__________________________________________________________________________________________________\n",
            "block12_sepconv3 (SeparableConv (None, 19, 19, 728)  536536      block12_sepconv3_act[0][0]       \n",
            "__________________________________________________________________________________________________\n",
            "block12_sepconv3_bn (BatchNorma (None, 19, 19, 728)  2912        block12_sepconv3[0][0]           \n",
            "__________________________________________________________________________________________________\n",
            "add_10 (Add)                    (None, 19, 19, 728)  0           block12_sepconv3_bn[0][0]        \n",
            "                                                                 add_9[0][0]                      \n",
            "__________________________________________________________________________________________________\n",
            "block13_sepconv1_act (Activatio (None, 19, 19, 728)  0           add_10[0][0]                     \n",
            "__________________________________________________________________________________________________\n",
            "block13_sepconv1 (SeparableConv (None, 19, 19, 728)  536536      block13_sepconv1_act[0][0]       \n",
            "__________________________________________________________________________________________________\n",
            "block13_sepconv1_bn (BatchNorma (None, 19, 19, 728)  2912        block13_sepconv1[0][0]           \n",
            "__________________________________________________________________________________________________\n",
            "block13_sepconv2_act (Activatio (None, 19, 19, 728)  0           block13_sepconv1_bn[0][0]        \n",
            "__________________________________________________________________________________________________\n",
            "block13_sepconv2 (SeparableConv (None, 19, 19, 1024) 752024      block13_sepconv2_act[0][0]       \n",
            "__________________________________________________________________________________________________\n",
            "block13_sepconv2_bn (BatchNorma (None, 19, 19, 1024) 4096        block13_sepconv2[0][0]           \n",
            "__________________________________________________________________________________________________\n",
            "conv2d_3 (Conv2D)               (None, 10, 10, 1024) 745472      add_10[0][0]                     \n",
            "__________________________________________________________________________________________________\n",
            "block13_pool (MaxPooling2D)     (None, 10, 10, 1024) 0           block13_sepconv2_bn[0][0]        \n",
            "__________________________________________________________________________________________________\n",
            "batch_normalization_3 (BatchNor (None, 10, 10, 1024) 4096        conv2d_3[0][0]                   \n",
            "__________________________________________________________________________________________________\n",
            "add_11 (Add)                    (None, 10, 10, 1024) 0           block13_pool[0][0]               \n",
            "                                                                 batch_normalization_3[0][0]      \n",
            "__________________________________________________________________________________________________\n",
            "block14_sepconv1 (SeparableConv (None, 10, 10, 1536) 1582080     add_11[0][0]                     \n",
            "__________________________________________________________________________________________________\n",
            "block14_sepconv1_bn (BatchNorma (None, 10, 10, 1536) 6144        block14_sepconv1[0][0]           \n",
            "__________________________________________________________________________________________________\n",
            "block14_sepconv1_act (Activatio (None, 10, 10, 1536) 0           block14_sepconv1_bn[0][0]        \n",
            "__________________________________________________________________________________________________\n",
            "block14_sepconv2 (SeparableConv (None, 10, 10, 2048) 3159552     block14_sepconv1_act[0][0]       \n",
            "__________________________________________________________________________________________________\n",
            "block14_sepconv2_bn (BatchNorma (None, 10, 10, 2048) 8192        block14_sepconv2[0][0]           \n",
            "__________________________________________________________________________________________________\n",
            "block14_sepconv2_act (Activatio (None, 10, 10, 2048) 0           block14_sepconv2_bn[0][0]        \n",
            "__________________________________________________________________________________________________\n",
            "global_average_pooling2d (Globa (None, 2048)         0           block14_sepconv2_act[0][0]       \n",
            "__________________________________________________________________________________________________\n",
            "dropout (Dropout)               (None, 2048)         0           global_average_pooling2d[0][0]   \n",
            "__________________________________________________________________________________________________\n",
            "dense (Dense)                   (None, 6)            12294       dropout[0][0]                    \n",
            "==================================================================================================\n",
            "Total params: 20,873,774\n",
            "Trainable params: 20,819,246\n",
            "Non-trainable params: 54,528\n",
            "__________________________________________________________________________________________________\n"
          ],
          "name": "stdout"
        }
      ]
    },
    {
      "cell_type": "code",
      "metadata": {
        "execution": {
          "iopub.execute_input": "2021-06-13T17:33:46.584626Z",
          "iopub.status.busy": "2021-06-13T17:33:46.584079Z",
          "iopub.status.idle": "2021-06-13T21:43:53.991127Z",
          "shell.execute_reply": "2021-06-13T21:43:53.990683Z",
          "shell.execute_reply.started": "2021-06-13T13:36:02.707106Z"
        },
        "papermill": {
          "duration": 15031.136026,
          "end_time": "2021-06-13T21:43:53.994697",
          "exception": false,
          "start_time": "2021-06-13T17:33:22.858671",
          "status": "completed"
        },
        "tags": [],
        "id": "departmental-macedonia",
        "outputId": "e37519a9-a6b6-4c0a-9a44-fad107fb194d"
      },
      "source": [
        "checkpoint = ModelCheckpoint(\n",
        "    'effnetb4.h5', \n",
        "    monitor='val_loss', \n",
        "    verbose=0, \n",
        "    save_best_only=True, \n",
        "    save_weights_only=False,\n",
        "    mode='auto'\n",
        ")\n",
        "Early_stop = tf.keras.callbacks.EarlyStopping(monitor='val_loss', min_delta=0, patience=0, verbose=1, \n",
        "                                              mode='auto', baseline=None, restore_best_weights=False)\n",
        "#train_length = len(train_df)\n",
        "total_steps = sample_files.shape[0] // BATCH_SIZE\n",
        "total_steps = total_steps // 4\n",
        "history = model.fit_generator(\n",
        "    train_gen,\n",
        "    steps_per_epoch = total_steps,\n",
        "    validation_data=val_gen,\n",
        "    validation_steps=total_steps * 0.15,\n",
        "    callbacks=[checkpoint, Early_stop],\n",
        "    epochs=10\n",
        ")"
      ],
      "id": "departmental-macedonia",
      "execution_count": null,
      "outputs": [
        {
          "output_type": "stream",
          "text": [
            "/opt/conda/lib/python3.7/site-packages/tensorflow/python/keras/engine/training.py:1844: UserWarning: `Model.fit_generator` is deprecated and will be removed in a future version. Please use `Model.fit`, which supports generators.\n",
            "  warnings.warn('`Model.fit_generator` is deprecated and '\n"
          ],
          "name": "stderr"
        },
        {
          "output_type": "stream",
          "text": [
            "Epoch 1/10\n",
            "6250/6250 [==============================] - 2505s 399ms/step - loss: 0.1377 - auc: 0.9118 - val_loss: 0.0829 - val_auc: 0.9685\n",
            "Epoch 2/10\n",
            "6250/6250 [==============================] - 2491s 399ms/step - loss: 0.0819 - auc: 0.9684 - val_loss: 0.0761 - val_auc: 0.9722\n",
            "Epoch 3/10\n",
            "6250/6250 [==============================] - 2491s 399ms/step - loss: 0.0716 - auc: 0.9755 - val_loss: 0.0739 - val_auc: 0.9724\n",
            "Epoch 4/10\n",
            "6250/6250 [==============================] - 2493s 399ms/step - loss: 0.0621 - auc: 0.9816 - val_loss: 0.0711 - val_auc: 0.9732\n",
            "Epoch 5/10\n",
            "6250/6250 [==============================] - 2493s 399ms/step - loss: 0.0559 - auc: 0.9849 - val_loss: 0.0702 - val_auc: 0.9737\n",
            "Epoch 6/10\n",
            "6250/6250 [==============================] - 2493s 399ms/step - loss: 0.0485 - auc: 0.9876 - val_loss: 0.0724 - val_auc: 0.9701\n",
            "Epoch 00006: early stopping\n"
          ],
          "name": "stdout"
        }
      ]
    },
    {
      "cell_type": "code",
      "metadata": {
        "execution": {
          "iopub.execute_input": "2021-06-13T21:45:01.867554Z",
          "iopub.status.busy": "2021-06-13T21:45:01.866726Z",
          "iopub.status.idle": "2021-06-13T21:45:02.235526Z",
          "shell.execute_reply": "2021-06-13T21:45:02.235895Z",
          "shell.execute_reply.started": "2021-06-13T14:06:53.248965Z"
        },
        "papermill": {
          "duration": 34.515452,
          "end_time": "2021-06-13T21:45:02.236043",
          "exception": false,
          "start_time": "2021-06-13T21:44:27.720591",
          "status": "completed"
        },
        "tags": [],
        "id": "vital-brazilian",
        "outputId": "96d03d5b-46e9-4ef6-ba52-57ce70391776"
      },
      "source": [
        "acc = history.history['auc']\n",
        "val_acc = history.history['val_auc']\n",
        "loss = history.history['loss']\n",
        "val_loss = history.history['val_loss']\n",
        "epochs = range(1, len(acc) + 1)\n",
        "\n",
        "plt.plot(epochs, acc, 'b', label='Training Sens')\n",
        "plt.plot(epochs, val_acc, 'g', label='Validation Sens')\n",
        "plt.xlabel('Epochs')\n",
        "plt.ylabel('Accuracy')\n",
        "\n",
        "plt.title('Training and validation accuracy')\n",
        "plt.legend()\n",
        "fig = plt.figure()\n",
        "fig.savefig('acc.png')\n",
        "\n",
        "\n",
        "plt.plot(epochs, loss, 'b', label='Training loss')\n",
        "plt.plot(epochs, val_loss, 'g', label='Validation loss')\n",
        "plt.xlabel('Epochs')\n",
        "plt.ylabel('Loss')\n",
        "plt.title('Training and validation loss')\n",
        "\n",
        "plt.legend()\n",
        "plt.show()"
      ],
      "id": "vital-brazilian",
      "execution_count": null,
      "outputs": [
        {
          "output_type": "display_data",
          "data": {
            "image/png": "[encoded data removed]",
            "text/plain": [
              "<Figure size 432x288 with 1 Axes>"
            ]
          },
          "metadata": {
            "tags": [],
            "needs_background": "light"
          }
        },
        {
          "output_type": "display_data",
          "data": {
            "image/png": "[encoded data removed]",
            "text/plain": [
              "<Figure size 432x288 with 1 Axes>"
            ]
          },
          "metadata": {
            "tags": [],
            "needs_background": "light"
          }
        }
      ]
    },
    {
      "cell_type": "markdown",
      "metadata": {
        "papermill": {
          "duration": 33.763835,
          "end_time": "2021-06-13T21:46:10.063428",
          "exception": false,
          "start_time": "2021-06-13T21:45:36.299593",
          "status": "completed"
        },
        "tags": [],
        "id": "several-evans"
      },
      "source": [
        "Idea here: make pred on validation, then for each image load the image, the prediciton, and the labels in validation_df "
      ],
      "id": "several-evans"
    },
    {
      "cell_type": "code",
      "metadata": {
        "execution": {
          "iopub.execute_input": "2021-06-13T21:47:17.602305Z",
          "iopub.status.busy": "2021-06-13T21:47:17.601466Z",
          "iopub.status.idle": "2021-06-13T21:51:52.284652Z",
          "shell.execute_reply": "2021-06-13T21:51:52.283843Z",
          "shell.execute_reply.started": "2021-06-13T14:06:55.603378Z"
        },
        "papermill": {
          "duration": 308.307806,
          "end_time": "2021-06-13T21:51:52.284872",
          "exception": false,
          "start_time": "2021-06-13T21:46:43.977066",
          "status": "completed"
        },
        "tags": [],
        "id": "associate-doctrine",
        "outputId": "e4ed2dbf-8a71-4e56-b665-269950ea8e6d"
      },
      "source": [
        "val_preds = model.predict_generator(val_gen, verbose = 1)\n"
      ],
      "id": "associate-doctrine",
      "execution_count": null,
      "outputs": [
        {
          "output_type": "stream",
          "text": [
            "/opt/conda/lib/python3.7/site-packages/tensorflow/python/keras/engine/training.py:1905: UserWarning: `Model.predict_generator` is deprecated and will be removed in a future version. Please use `Model.predict`, which supports generators.\n",
            "  warnings.warn('`Model.predict_generator` is deprecated and '\n"
          ],
          "name": "stderr"
        },
        {
          "output_type": "stream",
          "text": [
            "2911/2911 [==============================] - 240s 82ms/step\n"
          ],
          "name": "stdout"
        }
      ]
    },
    {
      "cell_type": "code",
      "metadata": {
        "execution": {
          "iopub.execute_input": "2021-06-13T21:53:01.872132Z",
          "iopub.status.busy": "2021-06-13T21:53:01.871608Z",
          "iopub.status.idle": "2021-06-13T21:53:01.878140Z",
          "shell.execute_reply": "2021-06-13T21:53:01.878708Z",
          "shell.execute_reply.started": "2021-06-13T14:08:05.870384Z"
        },
        "papermill": {
          "duration": 34.729424,
          "end_time": "2021-06-13T21:53:01.878868",
          "exception": false,
          "start_time": "2021-06-13T21:52:27.149444",
          "status": "completed"
        },
        "tags": [],
        "id": "straight-nursery",
        "outputId": "b32670c5-2d0e-44c2-85cb-f95f2d997573"
      },
      "source": [
        "val_preds"
      ],
      "id": "straight-nursery",
      "execution_count": null,
      "outputs": [
        {
          "output_type": "execute_result",
          "data": {
            "text/plain": [
              "array([[4.88043157e-03, 6.79597770e-06, 2.59264798e-05, 4.68799080e-05,\n",
              "        7.67226156e-04, 1.14669406e-03],\n",
              "       [7.18922215e-03, 7.54026478e-05, 1.03923574e-03, 5.62073692e-05,\n",
              "        2.22415710e-03, 2.99905590e-03],\n",
              "       [1.50264823e-03, 1.69125087e-05, 2.14794316e-04, 2.45318486e-04,\n",
              "        5.09307953e-04, 4.39669151e-04],\n",
              "       ...,\n",
              "       [7.44163350e-04, 5.20676076e-06, 1.44943202e-04, 1.26621308e-04,\n",
              "        1.54648151e-04, 6.10105984e-04],\n",
              "       [6.86777104e-03, 3.21044819e-04, 8.39803484e-04, 3.31978255e-04,\n",
              "        1.91761239e-03, 2.16134475e-03],\n",
              "       [5.52858226e-04, 1.05234585e-05, 1.65788824e-05, 2.96299459e-06,\n",
              "        4.11572946e-05, 6.01386942e-04]], dtype=float32)"
            ]
          },
          "metadata": {
            "tags": []
          },
          "execution_count": 42
        }
      ]
    },
    {
      "cell_type": "code",
      "metadata": {
        "execution": {
          "iopub.execute_input": "2021-06-13T21:54:10.867984Z",
          "iopub.status.busy": "2021-06-13T21:54:10.862889Z",
          "iopub.status.idle": "2021-06-13T21:54:11.619513Z",
          "shell.execute_reply": "2021-06-13T21:54:11.619949Z",
          "shell.execute_reply.started": "2021-06-13T14:08:11.791196Z"
        },
        "papermill": {
          "duration": 35.21563,
          "end_time": "2021-06-13T21:54:11.620101",
          "exception": false,
          "start_time": "2021-06-13T21:53:36.404471",
          "status": "completed"
        },
        "tags": [],
        "id": "electrical-collaboration",
        "outputId": "0bc62438-da66-4cce-bd54-22e2c8be5448"
      },
      "source": [
        "y_preds = []\n",
        "for i in range(len(val_preds)):\n",
        "    y_preds.append(0)\n",
        "    for value in val_preds[i]: \n",
        "        if value > 0.5: \n",
        "            y_preds[i] = 1\n",
        "            break\n",
        "            \n",
        "        \n",
        "len(y_preds)\n"
      ],
      "id": "electrical-collaboration",
      "execution_count": null,
      "outputs": [
        {
          "output_type": "execute_result",
          "data": {
            "text/plain": [
              "46574"
            ]
          },
          "metadata": {
            "tags": []
          },
          "execution_count": 43
        }
      ]
    },
    {
      "cell_type": "code",
      "metadata": {
        "execution": {
          "iopub.execute_input": "2021-06-13T21:55:21.110577Z",
          "iopub.status.busy": "2021-06-13T21:55:21.109643Z",
          "iopub.status.idle": "2021-06-13T21:55:21.136358Z",
          "shell.execute_reply": "2021-06-13T21:55:21.135838Z",
          "shell.execute_reply.started": "2021-06-13T14:08:23.414197Z"
        },
        "papermill": {
          "duration": 34.479518,
          "end_time": "2021-06-13T21:55:21.136493",
          "exception": false,
          "start_time": "2021-06-13T21:54:46.656975",
          "status": "completed"
        },
        "tags": [],
        "id": "extraordinary-registration"
      },
      "source": [
        "from sklearn.metrics import roc_curve\n",
        "fpr_keras, tpr_keras, thresholds_keras = roc_curve(y_true, y_preds)"
      ],
      "id": "extraordinary-registration",
      "execution_count": null,
      "outputs": []
    },
    {
      "cell_type": "code",
      "metadata": {
        "execution": {
          "iopub.execute_input": "2021-06-13T21:56:30.532671Z",
          "iopub.status.busy": "2021-06-13T21:56:30.531805Z",
          "iopub.status.idle": "2021-06-13T21:56:30.534542Z",
          "shell.execute_reply": "2021-06-13T21:56:30.534092Z",
          "shell.execute_reply.started": "2021-06-13T14:08:24.727696Z"
        },
        "papermill": {
          "duration": 34.73095,
          "end_time": "2021-06-13T21:56:30.534658",
          "exception": false,
          "start_time": "2021-06-13T21:55:55.803708",
          "status": "completed"
        },
        "tags": [],
        "id": "mature-worship"
      },
      "source": [
        "from sklearn.metrics import auc\n",
        "auc_keras = auc(fpr_keras, tpr_keras)"
      ],
      "id": "mature-worship",
      "execution_count": null,
      "outputs": []
    },
    {
      "cell_type": "code",
      "metadata": {
        "execution": {
          "iopub.execute_input": "2021-06-13T21:57:39.519226Z",
          "iopub.status.busy": "2021-06-13T21:57:39.518389Z",
          "iopub.status.idle": "2021-06-13T21:57:39.641891Z",
          "shell.execute_reply": "2021-06-13T21:57:39.642306Z",
          "shell.execute_reply.started": "2021-06-13T14:08:25.789664Z"
        },
        "papermill": {
          "duration": 34.70711,
          "end_time": "2021-06-13T21:57:39.642447",
          "exception": false,
          "start_time": "2021-06-13T21:57:04.935337",
          "status": "completed"
        },
        "tags": [],
        "id": "abandoned-province",
        "outputId": "cc142b64-a9a9-41fb-e642-2e56fb89d4be"
      },
      "source": [
        "plt.figure(1)\n",
        "plt.plot([0, 1], [0, 1], 'k--')\n",
        "plt.plot(fpr_keras, tpr_keras, label='Keras (area = {:.3f})'.format(auc_keras))\n",
        "\n",
        "plt.xlabel('False positive rate')\n",
        "plt.ylabel('True positive rate')\n",
        "plt.title('ROC curve')\n",
        "plt.legend(loc='best')\n",
        "plt.show()"
      ],
      "id": "abandoned-province",
      "execution_count": null,
      "outputs": [
        {
          "output_type": "display_data",
          "data": {
            "image/png": "[encoded data removed]",
            "text/plain": [
              "<Figure size 432x288 with 1 Axes>"
            ]
          },
          "metadata": {
            "tags": [],
            "needs_background": "light"
          }
        }
      ]
    },
    {
      "cell_type": "code",
      "metadata": {
        "execution": {
          "iopub.execute_input": "2021-06-13T21:58:49.014406Z",
          "iopub.status.busy": "2021-06-13T21:58:49.013638Z",
          "iopub.status.idle": "2021-06-13T21:58:49.211963Z",
          "shell.execute_reply": "2021-06-13T21:58:49.212343Z",
          "shell.execute_reply.started": "2021-06-13T14:09:22.046407Z"
        },
        "papermill": {
          "duration": 35.01049,
          "end_time": "2021-06-13T21:58:49.212489",
          "exception": false,
          "start_time": "2021-06-13T21:58:14.201999",
          "status": "completed"
        },
        "tags": [],
        "id": "sharp-warner",
        "outputId": "31ba2782-cf3c-4c19-c1f4-bb5488373817"
      },
      "source": [
        "from sklearn.metrics import confusion_matrix\n",
        "print('2*2 Confusion Matrix')\n",
        "print(confusion_matrix(y_true, y_preds))\n",
        "cm = confusion_matrix(y_true, y_preds)"
      ],
      "id": "sharp-warner",
      "execution_count": null,
      "outputs": [
        {
          "output_type": "stream",
          "text": [
            "2*2 Confusion Matrix\n",
            "[[39426   590]\n",
            " [ 1569  4989]]\n"
          ],
          "name": "stdout"
        }
      ]
    },
    {
      "cell_type": "code",
      "metadata": {
        "execution": {
          "iopub.execute_input": "2021-06-13T21:59:58.092461Z",
          "iopub.status.busy": "2021-06-13T21:59:58.091605Z",
          "iopub.status.idle": "2021-06-13T21:59:58.094391Z",
          "shell.execute_reply": "2021-06-13T21:59:58.093934Z",
          "shell.execute_reply.started": "2021-06-13T14:09:23.895661Z"
        },
        "papermill": {
          "duration": 34.274277,
          "end_time": "2021-06-13T21:59:58.094507",
          "exception": false,
          "start_time": "2021-06-13T21:59:23.820230",
          "status": "completed"
        },
        "tags": [],
        "id": "express-stupid"
      },
      "source": [
        "import itertools   \n",
        "def plot_confusion_matrix(cm, classes,\n",
        "                        normalize=False,\n",
        "                        title='Confusion matrix',\n",
        "                        cmap=plt.cm.Blues):\n",
        "    \"\"\"\n",
        "    This function prints and plots the confusion matrix.\n",
        "    Normalization can be applied by setting `normalize=True`.\n",
        "    \"\"\"\n",
        "    plt.imshow(cm, interpolation='nearest', cmap=cmap)\n",
        "    plt.title(title)\n",
        "    plt.colorbar()\n",
        "    tick_marks = np.arange(len(classes))\n",
        "    plt.xticks(tick_marks, classes, rotation=45)\n",
        "    plt.yticks(tick_marks, classes)\n",
        "\n",
        "    if normalize:\n",
        "        cm = cm.astype('float') / cm.sum(axis=1)[:, np.newaxis]\n",
        "        print(\"Normalized confusion matrix\")\n",
        "    else:\n",
        "        print('Confusion matrix, without normalization')\n",
        "\n",
        "    print(cm)\n",
        "\n",
        "    thresh = cm.max() / 2.\n",
        "    for i, j in itertools.product(range(cm.shape[0]), range(cm.shape[1])):\n",
        "        plt.text(j, i, cm[i, j],\n",
        "            horizontalalignment=\"center\",\n",
        "            color=\"white\" if cm[i, j] > thresh else \"black\")\n",
        "\n",
        "    plt.tight_layout()\n",
        "    plt.ylabel('True label')\n",
        "    plt.xlabel('Predicted label')"
      ],
      "id": "express-stupid",
      "execution_count": null,
      "outputs": []
    },
    {
      "cell_type": "code",
      "metadata": {
        "execution": {
          "iopub.execute_input": "2021-06-13T22:01:07.221624Z",
          "iopub.status.busy": "2021-06-13T22:01:07.220771Z",
          "iopub.status.idle": "2021-06-13T22:01:07.223578Z",
          "shell.execute_reply": "2021-06-13T22:01:07.222982Z",
          "shell.execute_reply.started": "2021-06-13T14:09:25.623323Z"
        },
        "papermill": {
          "duration": 34.595255,
          "end_time": "2021-06-13T22:01:07.223706",
          "exception": false,
          "start_time": "2021-06-13T22:00:32.628451",
          "status": "completed"
        },
        "tags": [],
        "id": "direct-mason"
      },
      "source": [
        "cm_labels = ['no hemorrhage', 'has hemorrhage']"
      ],
      "id": "direct-mason",
      "execution_count": null,
      "outputs": []
    },
    {
      "cell_type": "code",
      "metadata": {
        "execution": {
          "iopub.execute_input": "2021-06-13T22:02:16.286923Z",
          "iopub.status.busy": "2021-06-13T22:02:16.286070Z",
          "iopub.status.idle": "2021-06-13T22:02:16.507563Z",
          "shell.execute_reply": "2021-06-13T22:02:16.507132Z",
          "shell.execute_reply.started": "2021-06-13T14:09:27.277579Z"
        },
        "papermill": {
          "duration": 34.903492,
          "end_time": "2021-06-13T22:02:16.507684",
          "exception": false,
          "start_time": "2021-06-13T22:01:41.604192",
          "status": "completed"
        },
        "tags": [],
        "id": "numeric-questionnaire",
        "outputId": "50d72e76-bb61-44a9-ab70-215ed32535e0"
      },
      "source": [
        "plot_confusion_matrix(cm=cm, classes=cm_labels, title='Confusion Matrix')"
      ],
      "id": "numeric-questionnaire",
      "execution_count": null,
      "outputs": [
        {
          "output_type": "stream",
          "text": [
            "Confusion matrix, without normalization\n",
            "[[39426   590]\n",
            " [ 1569  4989]]\n"
          ],
          "name": "stdout"
        },
        {
          "output_type": "display_data",
          "data": {
            "image/png": "[encoded data removed]",
            "text/plain": [
              "<Figure size 432x288 with 2 Axes>"
            ]
          },
          "metadata": {
            "tags": [],
            "needs_background": "light"
          }
        }
      ]
    },
    {
      "cell_type": "code",
      "metadata": {
        "execution": {
          "iopub.execute_input": "2021-06-13T22:03:25.829764Z",
          "iopub.status.busy": "2021-06-13T22:03:25.829079Z",
          "iopub.status.idle": "2021-06-13T22:03:25.831999Z",
          "shell.execute_reply": "2021-06-13T22:03:25.832471Z",
          "shell.execute_reply.started": "2021-06-12T09:11:01.013865Z"
        },
        "papermill": {
          "duration": 34.801448,
          "end_time": "2021-06-13T22:03:25.832613",
          "exception": false,
          "start_time": "2021-06-13T22:02:51.031165",
          "status": "completed"
        },
        "tags": [],
        "id": "foreign-index",
        "outputId": "190b8c1a-9846-4aab-ff18-c7256243600c"
      },
      "source": [
        "predictions_list = []\n",
        "for pred in val_preds: \n",
        "    predictions_list.append(pred)\n",
        "\n",
        "len(predictions_list)"
      ],
      "id": "foreign-index",
      "execution_count": null,
      "outputs": [
        {
          "output_type": "execute_result",
          "data": {
            "text/plain": [
              "46574"
            ]
          },
          "metadata": {
            "tags": []
          },
          "execution_count": 51
        }
      ]
    },
    {
      "cell_type": "code",
      "metadata": {
        "execution": {
          "iopub.execute_input": "2021-06-13T22:04:34.775288Z",
          "iopub.status.busy": "2021-06-13T22:04:34.774742Z",
          "iopub.status.idle": "2021-06-13T22:04:34.798340Z",
          "shell.execute_reply": "2021-06-13T22:04:34.798745Z",
          "shell.execute_reply.started": "2021-06-12T09:11:01.023793Z"
        },
        "papermill": {
          "duration": 34.501089,
          "end_time": "2021-06-13T22:04:34.798890",
          "exception": false,
          "start_time": "2021-06-13T22:04:00.297801",
          "status": "completed"
        },
        "tags": [],
        "id": "viral-visiting",
        "outputId": "be17145f-8cb0-4afe-b4b5-985b94c60ab4"
      },
      "source": [
        "validation_frame = validation_df.drop(['filename'], axis=1)\n",
        "validation_frame "
      ],
      "id": "viral-visiting",
      "execution_count": null,
      "outputs": [
        {
          "output_type": "execute_result",
          "data": {
            "text/html": [
              "<div>\n",
              "<style scoped>\n",
              "    .dataframe tbody tr th:only-of-type {\n",
              "        vertical-align: middle;\n",
              "    }\n",
              "\n",
              "    .dataframe tbody tr th {\n",
              "        vertical-align: top;\n",
              "    }\n",
              "\n",
              "    .dataframe thead th {\n",
              "        text-align: right;\n",
              "    }\n",
              "</style>\n",
              "<table border=\"1\" class=\"dataframe\">\n",
              "  <thead>\n",
              "    <tr style=\"text-align: right;\">\n",
              "      <th>type</th>\n",
              "      <th>any</th>\n",
              "      <th>epidural</th>\n",
              "      <th>intraparenchymal</th>\n",
              "      <th>intraventricular</th>\n",
              "      <th>subarachnoid</th>\n",
              "      <th>subdural</th>\n",
              "    </tr>\n",
              "  </thead>\n",
              "  <tbody>\n",
              "    <tr>\n",
              "      <th>44011</th>\n",
              "      <td>0</td>\n",
              "      <td>0</td>\n",
              "      <td>0</td>\n",
              "      <td>0</td>\n",
              "      <td>0</td>\n",
              "      <td>0</td>\n",
              "    </tr>\n",
              "    <tr>\n",
              "      <th>89151</th>\n",
              "      <td>0</td>\n",
              "      <td>0</td>\n",
              "      <td>0</td>\n",
              "      <td>0</td>\n",
              "      <td>0</td>\n",
              "      <td>0</td>\n",
              "    </tr>\n",
              "    <tr>\n",
              "      <th>97132</th>\n",
              "      <td>0</td>\n",
              "      <td>0</td>\n",
              "      <td>0</td>\n",
              "      <td>0</td>\n",
              "      <td>0</td>\n",
              "      <td>0</td>\n",
              "    </tr>\n",
              "    <tr>\n",
              "      <th>264699</th>\n",
              "      <td>0</td>\n",
              "      <td>0</td>\n",
              "      <td>0</td>\n",
              "      <td>0</td>\n",
              "      <td>0</td>\n",
              "      <td>0</td>\n",
              "    </tr>\n",
              "    <tr>\n",
              "      <th>95553</th>\n",
              "      <td>0</td>\n",
              "      <td>0</td>\n",
              "      <td>0</td>\n",
              "      <td>0</td>\n",
              "      <td>0</td>\n",
              "      <td>0</td>\n",
              "    </tr>\n",
              "    <tr>\n",
              "      <th>...</th>\n",
              "      <td>...</td>\n",
              "      <td>...</td>\n",
              "      <td>...</td>\n",
              "      <td>...</td>\n",
              "      <td>...</td>\n",
              "      <td>...</td>\n",
              "    </tr>\n",
              "    <tr>\n",
              "      <th>74854</th>\n",
              "      <td>0</td>\n",
              "      <td>0</td>\n",
              "      <td>0</td>\n",
              "      <td>0</td>\n",
              "      <td>0</td>\n",
              "      <td>0</td>\n",
              "    </tr>\n",
              "    <tr>\n",
              "      <th>39978</th>\n",
              "      <td>0</td>\n",
              "      <td>0</td>\n",
              "      <td>0</td>\n",
              "      <td>0</td>\n",
              "      <td>0</td>\n",
              "      <td>0</td>\n",
              "    </tr>\n",
              "    <tr>\n",
              "      <th>124373</th>\n",
              "      <td>0</td>\n",
              "      <td>0</td>\n",
              "      <td>0</td>\n",
              "      <td>0</td>\n",
              "      <td>0</td>\n",
              "      <td>0</td>\n",
              "    </tr>\n",
              "    <tr>\n",
              "      <th>137189</th>\n",
              "      <td>0</td>\n",
              "      <td>0</td>\n",
              "      <td>0</td>\n",
              "      <td>0</td>\n",
              "      <td>0</td>\n",
              "      <td>0</td>\n",
              "    </tr>\n",
              "    <tr>\n",
              "      <th>280303</th>\n",
              "      <td>0</td>\n",
              "      <td>0</td>\n",
              "      <td>0</td>\n",
              "      <td>0</td>\n",
              "      <td>0</td>\n",
              "      <td>0</td>\n",
              "    </tr>\n",
              "  </tbody>\n",
              "</table>\n",
              "<p>46574 rows × 6 columns</p>\n",
              "</div>"
            ],
            "text/plain": [
              "type    any  epidural  intraparenchymal  intraventricular  subarachnoid  \\\n",
              "44011     0         0                 0                 0             0   \n",
              "89151     0         0                 0                 0             0   \n",
              "97132     0         0                 0                 0             0   \n",
              "264699    0         0                 0                 0             0   \n",
              "95553     0         0                 0                 0             0   \n",
              "...     ...       ...               ...               ...           ...   \n",
              "74854     0         0                 0                 0             0   \n",
              "39978     0         0                 0                 0             0   \n",
              "124373    0         0                 0                 0             0   \n",
              "137189    0         0                 0                 0             0   \n",
              "280303    0         0                 0                 0             0   \n",
              "\n",
              "type    subdural  \n",
              "44011          0  \n",
              "89151          0  \n",
              "97132          0  \n",
              "264699         0  \n",
              "95553          0  \n",
              "...          ...  \n",
              "74854          0  \n",
              "39978          0  \n",
              "124373         0  \n",
              "137189         0  \n",
              "280303         0  \n",
              "\n",
              "[46574 rows x 6 columns]"
            ]
          },
          "metadata": {
            "tags": []
          },
          "execution_count": 52
        }
      ]
    },
    {
      "cell_type": "code",
      "metadata": {
        "execution": {
          "iopub.execute_input": "2021-06-13T22:05:43.348782Z",
          "iopub.status.busy": "2021-06-13T22:05:43.348038Z",
          "iopub.status.idle": "2021-06-13T22:05:43.351027Z",
          "shell.execute_reply": "2021-06-13T22:05:43.351488Z",
          "shell.execute_reply.started": "2021-06-12T09:11:01.039807Z"
        },
        "papermill": {
          "duration": 34.395385,
          "end_time": "2021-06-13T22:05:43.351630",
          "exception": false,
          "start_time": "2021-06-13T22:05:08.956245",
          "status": "completed"
        },
        "tags": [],
        "id": "functioning-champagne",
        "outputId": "f28cc2d1-7451-402a-d96e-f44d465f683a"
      },
      "source": [
        "len(validation_frame) "
      ],
      "id": "functioning-champagne",
      "execution_count": null,
      "outputs": [
        {
          "output_type": "execute_result",
          "data": {
            "text/plain": [
              "46574"
            ]
          },
          "metadata": {
            "tags": []
          },
          "execution_count": 53
        }
      ]
    },
    {
      "cell_type": "code",
      "metadata": {
        "execution": {
          "iopub.execute_input": "2021-06-13T22:06:52.538000Z",
          "iopub.status.busy": "2021-06-13T22:06:52.537270Z",
          "iopub.status.idle": "2021-06-13T22:06:52.684805Z",
          "shell.execute_reply": "2021-06-13T22:06:52.684349Z",
          "shell.execute_reply.started": "2021-06-12T09:11:01.048716Z"
        },
        "papermill": {
          "duration": 34.69506,
          "end_time": "2021-06-13T22:06:52.684926",
          "exception": false,
          "start_time": "2021-06-13T22:06:17.989866",
          "status": "completed"
        },
        "tags": [],
        "id": "chief-tours"
      },
      "source": [
        "if len(predictions_list) == len(validation_frame): \n",
        "    validation_frame.iloc[:,:] = predictions_list\n",
        "else: \n",
        "    print(\"fix this issue\")\n",
        "        "
      ],
      "id": "chief-tours",
      "execution_count": null,
      "outputs": []
    },
    {
      "cell_type": "code",
      "metadata": {
        "execution": {
          "iopub.execute_input": "2021-06-13T22:08:01.946503Z",
          "iopub.status.busy": "2021-06-13T22:08:01.945715Z",
          "iopub.status.idle": "2021-06-13T22:08:02.001442Z",
          "shell.execute_reply": "2021-06-13T22:08:02.001010Z",
          "shell.execute_reply.started": "2021-06-12T09:11:01.060414Z"
        },
        "papermill": {
          "duration": 34.390751,
          "end_time": "2021-06-13T22:08:02.001565",
          "exception": false,
          "start_time": "2021-06-13T22:07:27.610814",
          "status": "completed"
        },
        "tags": [],
        "id": "certified-offense"
      },
      "source": [
        "validation_frame.insert(0, \"filename\", validation_df.filename)\n",
        "validation_frame.insert(7, \"true_any\" ,validation_df.iloc[:,1])\n",
        "validation_frame.insert(8, \"true_epidural\", validation_df.epidural)\n",
        "validation_frame.insert(9, \"true_intraparenchymal\", validation_df.intraparenchymal)\n",
        "validation_frame.insert(10, \"true_intraventricular\", validation_df.intraventricular)\n",
        "validation_frame.insert(11, \"true_subarachnoid\", validation_df.subarachnoid)\n",
        "validation_frame.insert(12, \"true_subdural\", validation_df.subdural)"
      ],
      "id": "certified-offense",
      "execution_count": null,
      "outputs": []
    },
    {
      "cell_type": "code",
      "metadata": {
        "execution": {
          "iopub.execute_input": "2021-06-13T22:09:10.729919Z",
          "iopub.status.busy": "2021-06-13T22:09:10.729027Z",
          "iopub.status.idle": "2021-06-13T22:09:10.739470Z",
          "shell.execute_reply": "2021-06-13T22:09:10.739902Z",
          "shell.execute_reply.started": "2021-06-12T09:11:01.071983Z"
        },
        "papermill": {
          "duration": 34.217454,
          "end_time": "2021-06-13T22:09:10.740038",
          "exception": false,
          "start_time": "2021-06-13T22:08:36.522584",
          "status": "completed"
        },
        "tags": [],
        "id": "gothic-limitation",
        "outputId": "42d78a40-421f-4c44-e922-a41ddd35a5b5"
      },
      "source": [
        "validation_frame"
      ],
      "id": "gothic-limitation",
      "execution_count": null,
      "outputs": [
        {
          "output_type": "execute_result",
          "data": {
            "text/html": [
              "<div>\n",
              "<style scoped>\n",
              "    .dataframe tbody tr th:only-of-type {\n",
              "        vertical-align: middle;\n",
              "    }\n",
              "\n",
              "    .dataframe tbody tr th {\n",
              "        vertical-align: top;\n",
              "    }\n",
              "\n",
              "    .dataframe thead th {\n",
              "        text-align: right;\n",
              "    }\n",
              "</style>\n",
              "<table border=\"1\" class=\"dataframe\">\n",
              "  <thead>\n",
              "    <tr style=\"text-align: right;\">\n",
              "      <th>type</th>\n",
              "      <th>filename</th>\n",
              "      <th>any</th>\n",
              "      <th>epidural</th>\n",
              "      <th>intraparenchymal</th>\n",
              "      <th>intraventricular</th>\n",
              "      <th>subarachnoid</th>\n",
              "      <th>subdural</th>\n",
              "      <th>true_any</th>\n",
              "      <th>true_epidural</th>\n",
              "      <th>true_intraparenchymal</th>\n",
              "      <th>true_intraventricular</th>\n",
              "      <th>true_subarachnoid</th>\n",
              "      <th>true_subdural</th>\n",
              "    </tr>\n",
              "  </thead>\n",
              "  <tbody>\n",
              "    <tr>\n",
              "      <th>44011</th>\n",
              "      <td>ID_2445df98e.png</td>\n",
              "      <td>0.004880</td>\n",
              "      <td>0.000007</td>\n",
              "      <td>0.000026</td>\n",
              "      <td>0.000047</td>\n",
              "      <td>0.000767</td>\n",
              "      <td>0.001147</td>\n",
              "      <td>0</td>\n",
              "      <td>0</td>\n",
              "      <td>0</td>\n",
              "      <td>0</td>\n",
              "      <td>0</td>\n",
              "      <td>0</td>\n",
              "    </tr>\n",
              "    <tr>\n",
              "      <th>89151</th>\n",
              "      <td>ID_49ad1664d.png</td>\n",
              "      <td>0.007189</td>\n",
              "      <td>0.000075</td>\n",
              "      <td>0.001039</td>\n",
              "      <td>0.000056</td>\n",
              "      <td>0.002224</td>\n",
              "      <td>0.002999</td>\n",
              "      <td>0</td>\n",
              "      <td>0</td>\n",
              "      <td>0</td>\n",
              "      <td>0</td>\n",
              "      <td>0</td>\n",
              "      <td>0</td>\n",
              "    </tr>\n",
              "    <tr>\n",
              "      <th>97132</th>\n",
              "      <td>ID_50324cad1.png</td>\n",
              "      <td>0.001503</td>\n",
              "      <td>0.000017</td>\n",
              "      <td>0.000215</td>\n",
              "      <td>0.000245</td>\n",
              "      <td>0.000509</td>\n",
              "      <td>0.000440</td>\n",
              "      <td>0</td>\n",
              "      <td>0</td>\n",
              "      <td>0</td>\n",
              "      <td>0</td>\n",
              "      <td>0</td>\n",
              "      <td>0</td>\n",
              "    </tr>\n",
              "    <tr>\n",
              "      <th>264699</th>\n",
              "      <td>ID_da39c7ec3.png</td>\n",
              "      <td>0.530057</td>\n",
              "      <td>0.042820</td>\n",
              "      <td>0.018070</td>\n",
              "      <td>0.002069</td>\n",
              "      <td>0.011142</td>\n",
              "      <td>0.398806</td>\n",
              "      <td>0</td>\n",
              "      <td>0</td>\n",
              "      <td>0</td>\n",
              "      <td>0</td>\n",
              "      <td>0</td>\n",
              "      <td>0</td>\n",
              "    </tr>\n",
              "    <tr>\n",
              "      <th>95553</th>\n",
              "      <td>ID_4eef12b53.png</td>\n",
              "      <td>0.002420</td>\n",
              "      <td>0.000042</td>\n",
              "      <td>0.000306</td>\n",
              "      <td>0.000102</td>\n",
              "      <td>0.000403</td>\n",
              "      <td>0.001881</td>\n",
              "      <td>0</td>\n",
              "      <td>0</td>\n",
              "      <td>0</td>\n",
              "      <td>0</td>\n",
              "      <td>0</td>\n",
              "      <td>0</td>\n",
              "    </tr>\n",
              "    <tr>\n",
              "      <th>...</th>\n",
              "      <td>...</td>\n",
              "      <td>...</td>\n",
              "      <td>...</td>\n",
              "      <td>...</td>\n",
              "      <td>...</td>\n",
              "      <td>...</td>\n",
              "      <td>...</td>\n",
              "      <td>...</td>\n",
              "      <td>...</td>\n",
              "      <td>...</td>\n",
              "      <td>...</td>\n",
              "      <td>...</td>\n",
              "      <td>...</td>\n",
              "    </tr>\n",
              "    <tr>\n",
              "      <th>74854</th>\n",
              "      <td>ID_3dcbfeab0.png</td>\n",
              "      <td>0.000217</td>\n",
              "      <td>0.000003</td>\n",
              "      <td>0.000009</td>\n",
              "      <td>0.000003</td>\n",
              "      <td>0.000080</td>\n",
              "      <td>0.000200</td>\n",
              "      <td>0</td>\n",
              "      <td>0</td>\n",
              "      <td>0</td>\n",
              "      <td>0</td>\n",
              "      <td>0</td>\n",
              "      <td>0</td>\n",
              "    </tr>\n",
              "    <tr>\n",
              "      <th>39978</th>\n",
              "      <td>ID_20ecfc869.png</td>\n",
              "      <td>0.000570</td>\n",
              "      <td>0.000008</td>\n",
              "      <td>0.000359</td>\n",
              "      <td>0.000197</td>\n",
              "      <td>0.000254</td>\n",
              "      <td>0.000067</td>\n",
              "      <td>0</td>\n",
              "      <td>0</td>\n",
              "      <td>0</td>\n",
              "      <td>0</td>\n",
              "      <td>0</td>\n",
              "      <td>0</td>\n",
              "    </tr>\n",
              "    <tr>\n",
              "      <th>124373</th>\n",
              "      <td>ID_66736ee88.png</td>\n",
              "      <td>0.000744</td>\n",
              "      <td>0.000005</td>\n",
              "      <td>0.000145</td>\n",
              "      <td>0.000127</td>\n",
              "      <td>0.000155</td>\n",
              "      <td>0.000610</td>\n",
              "      <td>0</td>\n",
              "      <td>0</td>\n",
              "      <td>0</td>\n",
              "      <td>0</td>\n",
              "      <td>0</td>\n",
              "      <td>0</td>\n",
              "    </tr>\n",
              "    <tr>\n",
              "      <th>137189</th>\n",
              "      <td>ID_711e2ca9d.png</td>\n",
              "      <td>0.006868</td>\n",
              "      <td>0.000321</td>\n",
              "      <td>0.000840</td>\n",
              "      <td>0.000332</td>\n",
              "      <td>0.001918</td>\n",
              "      <td>0.002161</td>\n",
              "      <td>0</td>\n",
              "      <td>0</td>\n",
              "      <td>0</td>\n",
              "      <td>0</td>\n",
              "      <td>0</td>\n",
              "      <td>0</td>\n",
              "    </tr>\n",
              "    <tr>\n",
              "      <th>280303</th>\n",
              "      <td>ID_e734127ec.png</td>\n",
              "      <td>0.000553</td>\n",
              "      <td>0.000011</td>\n",
              "      <td>0.000017</td>\n",
              "      <td>0.000003</td>\n",
              "      <td>0.000041</td>\n",
              "      <td>0.000601</td>\n",
              "      <td>0</td>\n",
              "      <td>0</td>\n",
              "      <td>0</td>\n",
              "      <td>0</td>\n",
              "      <td>0</td>\n",
              "      <td>0</td>\n",
              "    </tr>\n",
              "  </tbody>\n",
              "</table>\n",
              "<p>46574 rows × 13 columns</p>\n",
              "</div>"
            ],
            "text/plain": [
              "type            filename       any  epidural  intraparenchymal  \\\n",
              "44011   ID_2445df98e.png  0.004880  0.000007          0.000026   \n",
              "89151   ID_49ad1664d.png  0.007189  0.000075          0.001039   \n",
              "97132   ID_50324cad1.png  0.001503  0.000017          0.000215   \n",
              "264699  ID_da39c7ec3.png  0.530057  0.042820          0.018070   \n",
              "95553   ID_4eef12b53.png  0.002420  0.000042          0.000306   \n",
              "...                  ...       ...       ...               ...   \n",
              "74854   ID_3dcbfeab0.png  0.000217  0.000003          0.000009   \n",
              "39978   ID_20ecfc869.png  0.000570  0.000008          0.000359   \n",
              "124373  ID_66736ee88.png  0.000744  0.000005          0.000145   \n",
              "137189  ID_711e2ca9d.png  0.006868  0.000321          0.000840   \n",
              "280303  ID_e734127ec.png  0.000553  0.000011          0.000017   \n",
              "\n",
              "type    intraventricular  subarachnoid  subdural  true_any  true_epidural  \\\n",
              "44011           0.000047      0.000767  0.001147         0              0   \n",
              "89151           0.000056      0.002224  0.002999         0              0   \n",
              "97132           0.000245      0.000509  0.000440         0              0   \n",
              "264699          0.002069      0.011142  0.398806         0              0   \n",
              "95553           0.000102      0.000403  0.001881         0              0   \n",
              "...                  ...           ...       ...       ...            ...   \n",
              "74854           0.000003      0.000080  0.000200         0              0   \n",
              "39978           0.000197      0.000254  0.000067         0              0   \n",
              "124373          0.000127      0.000155  0.000610         0              0   \n",
              "137189          0.000332      0.001918  0.002161         0              0   \n",
              "280303          0.000003      0.000041  0.000601         0              0   \n",
              "\n",
              "type    true_intraparenchymal  true_intraventricular  true_subarachnoid  \\\n",
              "44011                       0                      0                  0   \n",
              "89151                       0                      0                  0   \n",
              "97132                       0                      0                  0   \n",
              "264699                      0                      0                  0   \n",
              "95553                       0                      0                  0   \n",
              "...                       ...                    ...                ...   \n",
              "74854                       0                      0                  0   \n",
              "39978                       0                      0                  0   \n",
              "124373                      0                      0                  0   \n",
              "137189                      0                      0                  0   \n",
              "280303                      0                      0                  0   \n",
              "\n",
              "type    true_subdural  \n",
              "44011               0  \n",
              "89151               0  \n",
              "97132               0  \n",
              "264699              0  \n",
              "95553               0  \n",
              "...               ...  \n",
              "74854               0  \n",
              "39978               0  \n",
              "124373              0  \n",
              "137189              0  \n",
              "280303              0  \n",
              "\n",
              "[46574 rows x 13 columns]"
            ]
          },
          "metadata": {
            "tags": []
          },
          "execution_count": 56
        }
      ]
    },
    {
      "cell_type": "code",
      "metadata": {
        "execution": {
          "iopub.execute_input": "2021-06-13T22:10:19.830340Z",
          "iopub.status.busy": "2021-06-13T22:10:19.829554Z",
          "iopub.status.idle": "2021-06-13T22:10:19.865080Z",
          "shell.execute_reply": "2021-06-13T22:10:19.865657Z",
          "shell.execute_reply.started": "2021-06-12T09:11:01.100848Z"
        },
        "papermill": {
          "duration": 34.69197,
          "end_time": "2021-06-13T22:10:19.865855",
          "exception": false,
          "start_time": "2021-06-13T22:09:45.173885",
          "status": "completed"
        },
        "tags": [],
        "id": "great-championship",
        "outputId": "d63ea1fb-4e7d-474e-c71a-b62c8e9b6402"
      },
      "source": [
        "for i in range(100): \n",
        "    if validation_frame.iloc[i,1] > 0.8: \n",
        "        print(\"ID is : \" + str(validation_frame.iloc[i,0]))\n",
        "        for j in range(1,7): \n",
        "            print(\"predicition = \" +  str(validation_frame.iloc[i,j]) )\n",
        "        for k in range(7,13): \n",
        "            print(\"true predicition = \" +  str(validation_frame.iloc[i,k]))\n",
        "# activation map"
      ],
      "id": "great-championship",
      "execution_count": null,
      "outputs": [
        {
          "output_type": "stream",
          "text": [
            "ID is : ID_b021b9cc9.png\n",
            "predicition = 0.8761910796165466\n",
            "predicition = 0.00015714814071543515\n",
            "predicition = 0.01156904362142086\n",
            "predicition = 0.9051729440689087\n",
            "predicition = 0.03242192417383194\n",
            "predicition = 0.021564068272709846\n",
            "true predicition = 1\n",
            "true predicition = 0\n",
            "true predicition = 0\n",
            "true predicition = 1\n",
            "true predicition = 0\n",
            "true predicition = 0\n",
            "ID is : ID_8d30b0f9a.png\n",
            "predicition = 0.9951034784317017\n",
            "predicition = 0.00015572525444440544\n",
            "predicition = 0.005770446732640266\n",
            "predicition = 0.04055109992623329\n",
            "predicition = 0.9889285564422607\n",
            "predicition = 0.014821131713688374\n",
            "true predicition = 1\n",
            "true predicition = 0\n",
            "true predicition = 0\n",
            "true predicition = 0\n",
            "true predicition = 1\n",
            "true predicition = 0\n",
            "ID is : ID_2a7407616.png\n",
            "predicition = 0.995261549949646\n",
            "predicition = 0.00013436349399853498\n",
            "predicition = 0.8919529914855957\n",
            "predicition = 0.7582352161407471\n",
            "predicition = 0.010991419665515423\n",
            "predicition = 0.0023261650931090117\n",
            "true predicition = 1\n",
            "true predicition = 0\n",
            "true predicition = 1\n",
            "true predicition = 0\n",
            "true predicition = 0\n",
            "true predicition = 0\n",
            "ID is : ID_519e009ba.png\n",
            "predicition = 0.9920557141304016\n",
            "predicition = 0.004949122201651335\n",
            "predicition = 0.982837438583374\n",
            "predicition = 0.006615461781620979\n",
            "predicition = 0.2732337415218353\n",
            "predicition = 0.038820017129182816\n",
            "true predicition = 1\n",
            "true predicition = 0\n",
            "true predicition = 1\n",
            "true predicition = 0\n",
            "true predicition = 1\n",
            "true predicition = 0\n",
            "ID is : ID_c75e54871.png\n",
            "predicition = 0.9794533848762512\n",
            "predicition = 0.010000443086028099\n",
            "predicition = 0.9451763033866882\n",
            "predicition = 0.007409842684864998\n",
            "predicition = 0.6673584580421448\n",
            "predicition = 0.046707116067409515\n",
            "true predicition = 1\n",
            "true predicition = 0\n",
            "true predicition = 1\n",
            "true predicition = 0\n",
            "true predicition = 0\n",
            "true predicition = 0\n",
            "ID is : ID_c41e31689.png\n",
            "predicition = 0.9991227984428406\n",
            "predicition = 0.000182017422048375\n",
            "predicition = 0.0419701412320137\n",
            "predicition = 0.9991421699523926\n",
            "predicition = 0.090882807970047\n",
            "predicition = 0.06316249817609787\n",
            "true predicition = 1\n",
            "true predicition = 0\n",
            "true predicition = 0\n",
            "true predicition = 1\n",
            "true predicition = 0\n",
            "true predicition = 0\n",
            "ID is : ID_401f94a0a.png\n",
            "predicition = 0.9997511506080627\n",
            "predicition = 0.00010289724014000967\n",
            "predicition = 0.3442007899284363\n",
            "predicition = 0.9996077418327332\n",
            "predicition = 0.0041884444653987885\n",
            "predicition = 0.0007650917978025973\n",
            "true predicition = 1\n",
            "true predicition = 0\n",
            "true predicition = 0\n",
            "true predicition = 1\n",
            "true predicition = 0\n",
            "true predicition = 0\n",
            "ID is : ID_0c2939c10.png\n",
            "predicition = 0.9836983680725098\n",
            "predicition = 0.005069378763437271\n",
            "predicition = 0.8721627593040466\n",
            "predicition = 0.2007061094045639\n",
            "predicition = 0.8401349782943726\n",
            "predicition = 0.02273310162127018\n",
            "true predicition = 1\n",
            "true predicition = 0\n",
            "true predicition = 1\n",
            "true predicition = 0\n",
            "true predicition = 0\n",
            "true predicition = 0\n",
            "ID is : ID_9c027c0cf.png\n",
            "predicition = 0.943708598613739\n",
            "predicition = 0.005755182821303606\n",
            "predicition = 0.781008243560791\n",
            "predicition = 0.0020884808618575335\n",
            "predicition = 0.34959810972213745\n",
            "predicition = 0.0731671154499054\n",
            "true predicition = 1\n",
            "true predicition = 0\n",
            "true predicition = 0\n",
            "true predicition = 0\n",
            "true predicition = 1\n",
            "true predicition = 1\n",
            "ID is : ID_e5bd11eac.png\n",
            "predicition = 0.9986312985420227\n",
            "predicition = 0.002348463051021099\n",
            "predicition = 0.8384519815444946\n",
            "predicition = 0.6838529706001282\n",
            "predicition = 0.9895329475402832\n",
            "predicition = 0.3445660471916199\n",
            "true predicition = 1\n",
            "true predicition = 0\n",
            "true predicition = 1\n",
            "true predicition = 1\n",
            "true predicition = 1\n",
            "true predicition = 0\n"
          ],
          "name": "stdout"
        }
      ]
    },
    {
      "cell_type": "code",
      "metadata": {
        "execution": {
          "iopub.execute_input": "2021-06-13T22:11:28.876439Z",
          "iopub.status.busy": "2021-06-13T22:11:28.875631Z",
          "iopub.status.idle": "2021-06-13T22:11:28.880261Z",
          "shell.execute_reply": "2021-06-13T22:11:28.880626Z",
          "shell.execute_reply.started": "2021-06-12T09:11:01.111617Z"
        },
        "papermill": {
          "duration": 34.606344,
          "end_time": "2021-06-13T22:11:28.880772",
          "exception": false,
          "start_time": "2021-06-13T22:10:54.274428",
          "status": "completed"
        },
        "tags": [],
        "id": "phantom-editor",
        "outputId": "b998e28e-9321-4f93-fe0a-571c8442a2fb"
      },
      "source": [
        "any_preds = validation_frame['any']\n",
        "max_index = any_preds.idxmax()\n",
        "max_index"
      ],
      "id": "phantom-editor",
      "execution_count": null,
      "outputs": [
        {
          "output_type": "execute_result",
          "data": {
            "text/plain": [
              "302402"
            ]
          },
          "metadata": {
            "tags": []
          },
          "execution_count": 58
        }
      ]
    },
    {
      "cell_type": "code",
      "metadata": {
        "execution": {
          "iopub.execute_input": "2021-06-13T22:12:37.986643Z",
          "iopub.status.busy": "2021-06-13T22:12:37.985799Z",
          "iopub.status.idle": "2021-06-13T22:12:37.988379Z",
          "shell.execute_reply": "2021-06-13T22:12:37.987961Z",
          "shell.execute_reply.started": "2021-06-12T09:11:01.122984Z"
        },
        "papermill": {
          "duration": 34.473377,
          "end_time": "2021-06-13T22:12:37.988496",
          "exception": false,
          "start_time": "2021-06-13T22:12:03.515119",
          "status": "completed"
        },
        "tags": [],
        "id": "abroad-fraud"
      },
      "source": [
        "def img_to_heatmap(): \n",
        "    highest_predicted_img = validation_frame.loc[max_index,'filename']\n",
        "    if validation_frame.loc[max_index, 'true_any'] == 1:\n",
        "        return highest_predicted_img"
      ],
      "id": "abroad-fraud",
      "execution_count": null,
      "outputs": []
    },
    {
      "cell_type": "code",
      "metadata": {
        "execution": {
          "iopub.execute_input": "2021-06-13T22:13:46.796641Z",
          "iopub.status.busy": "2021-06-13T22:13:46.795770Z",
          "iopub.status.idle": "2021-06-13T22:13:46.801311Z",
          "shell.execute_reply": "2021-06-13T22:13:46.801745Z",
          "shell.execute_reply.started": "2021-06-12T09:11:01.130275Z"
        },
        "papermill": {
          "duration": 34.282398,
          "end_time": "2021-06-13T22:13:46.801882",
          "exception": false,
          "start_time": "2021-06-13T22:13:12.519484",
          "status": "completed"
        },
        "tags": [],
        "id": "sharp-contract",
        "outputId": "92c1f274-8283-440e-b896-ec001ba595de"
      },
      "source": [
        "highest_predicted_img =  img_to_heatmap()\n",
        "highest_predicted_img"
      ],
      "id": "sharp-contract",
      "execution_count": null,
      "outputs": [
        {
          "output_type": "execute_result",
          "data": {
            "text/plain": [
              "'ID_f94f5d671.png'"
            ]
          },
          "metadata": {
            "tags": []
          },
          "execution_count": 60
        }
      ]
    },
    {
      "cell_type": "code",
      "metadata": {
        "execution": {
          "iopub.execute_input": "2021-06-13T22:14:55.689096Z",
          "iopub.status.busy": "2021-06-13T22:14:55.688336Z",
          "iopub.status.idle": "2021-06-13T22:16:28.327574Z",
          "shell.execute_reply": "2021-06-13T22:16:28.327115Z",
          "shell.execute_reply.started": "2021-06-13T14:10:00.49655Z"
        },
        "papermill": {
          "duration": 127.21395,
          "end_time": "2021-06-13T22:16:28.327751",
          "exception": false,
          "start_time": "2021-06-13T22:14:21.113801",
          "status": "completed"
        },
        "tags": [],
        "id": "informal-calculator",
        "outputId": "590813ef-ea9b-4fd7-da25-98d3853efb92"
      },
      "source": [
        "test_preds = model.predict_generator(test_gen, verbose = 1)"
      ],
      "id": "informal-calculator",
      "execution_count": null,
      "outputs": [
        {
          "output_type": "stream",
          "text": [
            "/opt/conda/lib/python3.7/site-packages/tensorflow/python/keras/engine/training.py:1905: UserWarning: `Model.predict_generator` is deprecated and will be removed in a future version. Please use `Model.predict`, which supports generators.\n",
            "  warnings.warn('`Model.predict_generator` is deprecated and '\n"
          ],
          "name": "stderr"
        },
        {
          "output_type": "stream",
          "text": [
            "1157/1157 [==============================] - 92s 79ms/step\n"
          ],
          "name": "stdout"
        }
      ]
    },
    {
      "cell_type": "code",
      "metadata": {
        "execution": {
          "iopub.execute_input": "2021-06-13T22:17:38.137311Z",
          "iopub.status.busy": "2021-06-13T22:17:38.136637Z",
          "iopub.status.idle": "2021-06-13T22:17:38.139925Z",
          "shell.execute_reply": "2021-06-13T22:17:38.140343Z",
          "shell.execute_reply.started": "2021-06-13T14:11:32.446186Z"
        },
        "papermill": {
          "duration": 35.270089,
          "end_time": "2021-06-13T22:17:38.140478",
          "exception": false,
          "start_time": "2021-06-13T22:17:02.870389",
          "status": "completed"
        },
        "tags": [],
        "id": "taken-precipitation",
        "outputId": "a62b01c9-351f-45f9-ec35-8517677cae8c"
      },
      "source": [
        "test_preds"
      ],
      "id": "taken-precipitation",
      "execution_count": null,
      "outputs": [
        {
          "output_type": "execute_result",
          "data": {
            "text/plain": [
              "array([[5.9629550e-05, 6.4686780e-08, 1.3667896e-05, 4.2344514e-06,\n",
              "        3.6718945e-06, 1.2835955e-05],\n",
              "       [9.9901529e-04, 7.4361010e-06, 1.2249072e-04, 5.0314728e-05,\n",
              "        7.6918403e-04, 9.8209472e-05],\n",
              "       [8.9907306e-01, 1.9440278e-03, 4.7485426e-01, 7.4687248e-01,\n",
              "        2.7862379e-01, 3.3490080e-02],\n",
              "       ...,\n",
              "       [1.1457704e-03, 8.6561362e-05, 4.4787295e-05, 2.8918052e-07,\n",
              "        2.6855094e-04, 3.6832181e-04],\n",
              "       [6.9312606e-04, 5.3474596e-06, 1.4605244e-05, 7.9251040e-06,\n",
              "        5.4236921e-04, 2.3878882e-04],\n",
              "       [9.0481425e-03, 1.5301078e-04, 1.2078742e-03, 5.3350901e-04,\n",
              "        2.2465526e-03, 5.4920763e-03]], dtype=float32)"
            ]
          },
          "metadata": {
            "tags": []
          },
          "execution_count": 62
        }
      ]
    },
    {
      "cell_type": "code",
      "metadata": {
        "execution": {
          "iopub.execute_input": "2021-06-13T22:18:47.871526Z",
          "iopub.status.busy": "2021-06-13T22:18:47.870099Z",
          "iopub.status.idle": "2021-06-13T22:18:47.872420Z",
          "shell.execute_reply": "2021-06-13T22:18:47.872833Z",
          "shell.execute_reply.started": "2021-06-13T14:11:34.271572Z"
        },
        "papermill": {
          "duration": 35.032358,
          "end_time": "2021-06-13T22:18:47.872969",
          "exception": false,
          "start_time": "2021-06-13T22:18:12.840611",
          "status": "completed"
        },
        "tags": [],
        "id": "functional-accident"
      },
      "source": [
        "predictions_list_test = []\n",
        "for pred in test_preds: \n",
        "    predictions_list_test.append(pred)\n",
        "\n"
      ],
      "id": "functional-accident",
      "execution_count": null,
      "outputs": []
    },
    {
      "cell_type": "code",
      "metadata": {
        "execution": {
          "iopub.execute_input": "2021-06-13T22:19:57.537021Z",
          "iopub.status.busy": "2021-06-13T22:19:57.536383Z",
          "iopub.status.idle": "2021-06-13T22:19:57.539815Z",
          "shell.execute_reply": "2021-06-13T22:19:57.540295Z",
          "shell.execute_reply.started": "2021-06-13T14:12:18.177326Z"
        },
        "papermill": {
          "duration": 34.733568,
          "end_time": "2021-06-13T22:19:57.540439",
          "exception": false,
          "start_time": "2021-06-13T22:19:22.806871",
          "status": "completed"
        },
        "tags": [],
        "id": "received-plastic",
        "outputId": "95af4c8c-430c-4e1f-8c82-98734a751c92"
      },
      "source": [
        "test_frame =  test_sample_df.drop(['filename'], axis=1)\n",
        "test_frame"
      ],
      "id": "received-plastic",
      "execution_count": null,
      "outputs": [
        {
          "output_type": "execute_result",
          "data": {
            "text/html": [
              "<div>\n",
              "<style scoped>\n",
              "    .dataframe tbody tr th:only-of-type {\n",
              "        vertical-align: middle;\n",
              "    }\n",
              "\n",
              "    .dataframe tbody tr th {\n",
              "        vertical-align: top;\n",
              "    }\n",
              "\n",
              "    .dataframe thead th {\n",
              "        text-align: right;\n",
              "    }\n",
              "</style>\n",
              "<table border=\"1\" class=\"dataframe\">\n",
              "  <thead>\n",
              "    <tr style=\"text-align: right;\">\n",
              "      <th>type</th>\n",
              "      <th>any</th>\n",
              "      <th>epidural</th>\n",
              "      <th>intraparenchymal</th>\n",
              "      <th>intraventricular</th>\n",
              "      <th>subarachnoid</th>\n",
              "      <th>subdural</th>\n",
              "    </tr>\n",
              "  </thead>\n",
              "  <tbody>\n",
              "    <tr>\n",
              "      <th>5</th>\n",
              "      <td>0.5</td>\n",
              "      <td>0.5</td>\n",
              "      <td>0.5</td>\n",
              "      <td>0.5</td>\n",
              "      <td>0.5</td>\n",
              "      <td>0.5</td>\n",
              "    </tr>\n",
              "    <tr>\n",
              "      <th>12</th>\n",
              "      <td>0.5</td>\n",
              "      <td>0.5</td>\n",
              "      <td>0.5</td>\n",
              "      <td>0.5</td>\n",
              "      <td>0.5</td>\n",
              "      <td>0.5</td>\n",
              "    </tr>\n",
              "    <tr>\n",
              "      <th>16</th>\n",
              "      <td>0.5</td>\n",
              "      <td>0.5</td>\n",
              "      <td>0.5</td>\n",
              "      <td>0.5</td>\n",
              "      <td>0.5</td>\n",
              "      <td>0.5</td>\n",
              "    </tr>\n",
              "    <tr>\n",
              "      <th>24</th>\n",
              "      <td>0.5</td>\n",
              "      <td>0.5</td>\n",
              "      <td>0.5</td>\n",
              "      <td>0.5</td>\n",
              "      <td>0.5</td>\n",
              "      <td>0.5</td>\n",
              "    </tr>\n",
              "    <tr>\n",
              "      <th>29</th>\n",
              "      <td>0.5</td>\n",
              "      <td>0.5</td>\n",
              "      <td>0.5</td>\n",
              "      <td>0.5</td>\n",
              "      <td>0.5</td>\n",
              "      <td>0.5</td>\n",
              "    </tr>\n",
              "    <tr>\n",
              "      <th>...</th>\n",
              "      <td>...</td>\n",
              "      <td>...</td>\n",
              "      <td>...</td>\n",
              "      <td>...</td>\n",
              "      <td>...</td>\n",
              "      <td>...</td>\n",
              "    </tr>\n",
              "    <tr>\n",
              "      <th>121202</th>\n",
              "      <td>0.5</td>\n",
              "      <td>0.5</td>\n",
              "      <td>0.5</td>\n",
              "      <td>0.5</td>\n",
              "      <td>0.5</td>\n",
              "      <td>0.5</td>\n",
              "    </tr>\n",
              "    <tr>\n",
              "      <th>121212</th>\n",
              "      <td>0.5</td>\n",
              "      <td>0.5</td>\n",
              "      <td>0.5</td>\n",
              "      <td>0.5</td>\n",
              "      <td>0.5</td>\n",
              "      <td>0.5</td>\n",
              "    </tr>\n",
              "    <tr>\n",
              "      <th>121213</th>\n",
              "      <td>0.5</td>\n",
              "      <td>0.5</td>\n",
              "      <td>0.5</td>\n",
              "      <td>0.5</td>\n",
              "      <td>0.5</td>\n",
              "      <td>0.5</td>\n",
              "    </tr>\n",
              "    <tr>\n",
              "      <th>121226</th>\n",
              "      <td>0.5</td>\n",
              "      <td>0.5</td>\n",
              "      <td>0.5</td>\n",
              "      <td>0.5</td>\n",
              "      <td>0.5</td>\n",
              "      <td>0.5</td>\n",
              "    </tr>\n",
              "    <tr>\n",
              "      <th>121231</th>\n",
              "      <td>0.5</td>\n",
              "      <td>0.5</td>\n",
              "      <td>0.5</td>\n",
              "      <td>0.5</td>\n",
              "      <td>0.5</td>\n",
              "      <td>0.5</td>\n",
              "    </tr>\n",
              "  </tbody>\n",
              "</table>\n",
              "<p>18509 rows × 6 columns</p>\n",
              "</div>"
            ],
            "text/plain": [
              "type    any  epidural  intraparenchymal  intraventricular  subarachnoid  \\\n",
              "5       0.5       0.5               0.5               0.5           0.5   \n",
              "12      0.5       0.5               0.5               0.5           0.5   \n",
              "16      0.5       0.5               0.5               0.5           0.5   \n",
              "24      0.5       0.5               0.5               0.5           0.5   \n",
              "29      0.5       0.5               0.5               0.5           0.5   \n",
              "...     ...       ...               ...               ...           ...   \n",
              "121202  0.5       0.5               0.5               0.5           0.5   \n",
              "121212  0.5       0.5               0.5               0.5           0.5   \n",
              "121213  0.5       0.5               0.5               0.5           0.5   \n",
              "121226  0.5       0.5               0.5               0.5           0.5   \n",
              "121231  0.5       0.5               0.5               0.5           0.5   \n",
              "\n",
              "type    subdural  \n",
              "5            0.5  \n",
              "12           0.5  \n",
              "16           0.5  \n",
              "24           0.5  \n",
              "29           0.5  \n",
              "...          ...  \n",
              "121202       0.5  \n",
              "121212       0.5  \n",
              "121213       0.5  \n",
              "121226       0.5  \n",
              "121231       0.5  \n",
              "\n",
              "[18509 rows x 6 columns]"
            ]
          },
          "metadata": {
            "tags": []
          },
          "execution_count": 64
        }
      ]
    },
    {
      "cell_type": "code",
      "metadata": {
        "execution": {
          "iopub.execute_input": "2021-06-13T22:21:07.279017Z",
          "iopub.status.busy": "2021-06-13T22:21:07.278314Z",
          "iopub.status.idle": "2021-06-13T22:21:07.324799Z",
          "shell.execute_reply": "2021-06-13T22:21:07.325157Z",
          "shell.execute_reply.started": "2021-06-13T14:12:20.169992Z"
        },
        "papermill": {
          "duration": 34.764646,
          "end_time": "2021-06-13T22:21:07.325321",
          "exception": false,
          "start_time": "2021-06-13T22:20:32.560675",
          "status": "completed"
        },
        "tags": [],
        "id": "right-offering",
        "outputId": "7e5ae017-7310-4bce-ecbe-42432a2a1ea2"
      },
      "source": [
        "test_frame.iloc[:,:] = predictions_list_test\n",
        "test_frame"
      ],
      "id": "right-offering",
      "execution_count": null,
      "outputs": [
        {
          "output_type": "execute_result",
          "data": {
            "text/html": [
              "<div>\n",
              "<style scoped>\n",
              "    .dataframe tbody tr th:only-of-type {\n",
              "        vertical-align: middle;\n",
              "    }\n",
              "\n",
              "    .dataframe tbody tr th {\n",
              "        vertical-align: top;\n",
              "    }\n",
              "\n",
              "    .dataframe thead th {\n",
              "        text-align: right;\n",
              "    }\n",
              "</style>\n",
              "<table border=\"1\" class=\"dataframe\">\n",
              "  <thead>\n",
              "    <tr style=\"text-align: right;\">\n",
              "      <th>type</th>\n",
              "      <th>any</th>\n",
              "      <th>epidural</th>\n",
              "      <th>intraparenchymal</th>\n",
              "      <th>intraventricular</th>\n",
              "      <th>subarachnoid</th>\n",
              "      <th>subdural</th>\n",
              "    </tr>\n",
              "  </thead>\n",
              "  <tbody>\n",
              "    <tr>\n",
              "      <th>5</th>\n",
              "      <td>0.000060</td>\n",
              "      <td>6.468678e-08</td>\n",
              "      <td>0.000014</td>\n",
              "      <td>4.234451e-06</td>\n",
              "      <td>0.000004</td>\n",
              "      <td>0.000013</td>\n",
              "    </tr>\n",
              "    <tr>\n",
              "      <th>12</th>\n",
              "      <td>0.000999</td>\n",
              "      <td>7.436101e-06</td>\n",
              "      <td>0.000122</td>\n",
              "      <td>5.031473e-05</td>\n",
              "      <td>0.000769</td>\n",
              "      <td>0.000098</td>\n",
              "    </tr>\n",
              "    <tr>\n",
              "      <th>16</th>\n",
              "      <td>0.899073</td>\n",
              "      <td>1.944028e-03</td>\n",
              "      <td>0.474854</td>\n",
              "      <td>7.468725e-01</td>\n",
              "      <td>0.278624</td>\n",
              "      <td>0.033490</td>\n",
              "    </tr>\n",
              "    <tr>\n",
              "      <th>24</th>\n",
              "      <td>0.000442</td>\n",
              "      <td>3.012911e-06</td>\n",
              "      <td>0.000172</td>\n",
              "      <td>1.535425e-04</td>\n",
              "      <td>0.000422</td>\n",
              "      <td>0.000027</td>\n",
              "    </tr>\n",
              "    <tr>\n",
              "      <th>29</th>\n",
              "      <td>0.016134</td>\n",
              "      <td>8.428097e-04</td>\n",
              "      <td>0.001005</td>\n",
              "      <td>4.806009e-04</td>\n",
              "      <td>0.003018</td>\n",
              "      <td>0.010064</td>\n",
              "    </tr>\n",
              "    <tr>\n",
              "      <th>...</th>\n",
              "      <td>...</td>\n",
              "      <td>...</td>\n",
              "      <td>...</td>\n",
              "      <td>...</td>\n",
              "      <td>...</td>\n",
              "      <td>...</td>\n",
              "    </tr>\n",
              "    <tr>\n",
              "      <th>121202</th>\n",
              "      <td>0.000384</td>\n",
              "      <td>2.584474e-06</td>\n",
              "      <td>0.000032</td>\n",
              "      <td>2.598462e-05</td>\n",
              "      <td>0.000084</td>\n",
              "      <td>0.000220</td>\n",
              "    </tr>\n",
              "    <tr>\n",
              "      <th>121212</th>\n",
              "      <td>0.984386</td>\n",
              "      <td>1.886656e-02</td>\n",
              "      <td>0.055900</td>\n",
              "      <td>4.621408e-04</td>\n",
              "      <td>0.074550</td>\n",
              "      <td>0.880309</td>\n",
              "    </tr>\n",
              "    <tr>\n",
              "      <th>121213</th>\n",
              "      <td>0.001146</td>\n",
              "      <td>8.656136e-05</td>\n",
              "      <td>0.000045</td>\n",
              "      <td>2.891805e-07</td>\n",
              "      <td>0.000269</td>\n",
              "      <td>0.000368</td>\n",
              "    </tr>\n",
              "    <tr>\n",
              "      <th>121226</th>\n",
              "      <td>0.000693</td>\n",
              "      <td>5.347460e-06</td>\n",
              "      <td>0.000015</td>\n",
              "      <td>7.925104e-06</td>\n",
              "      <td>0.000542</td>\n",
              "      <td>0.000239</td>\n",
              "    </tr>\n",
              "    <tr>\n",
              "      <th>121231</th>\n",
              "      <td>0.009048</td>\n",
              "      <td>1.530108e-04</td>\n",
              "      <td>0.001208</td>\n",
              "      <td>5.335090e-04</td>\n",
              "      <td>0.002247</td>\n",
              "      <td>0.005492</td>\n",
              "    </tr>\n",
              "  </tbody>\n",
              "</table>\n",
              "<p>18509 rows × 6 columns</p>\n",
              "</div>"
            ],
            "text/plain": [
              "type         any      epidural  intraparenchymal  intraventricular  \\\n",
              "5       0.000060  6.468678e-08          0.000014      4.234451e-06   \n",
              "12      0.000999  7.436101e-06          0.000122      5.031473e-05   \n",
              "16      0.899073  1.944028e-03          0.474854      7.468725e-01   \n",
              "24      0.000442  3.012911e-06          0.000172      1.535425e-04   \n",
              "29      0.016134  8.428097e-04          0.001005      4.806009e-04   \n",
              "...          ...           ...               ...               ...   \n",
              "121202  0.000384  2.584474e-06          0.000032      2.598462e-05   \n",
              "121212  0.984386  1.886656e-02          0.055900      4.621408e-04   \n",
              "121213  0.001146  8.656136e-05          0.000045      2.891805e-07   \n",
              "121226  0.000693  5.347460e-06          0.000015      7.925104e-06   \n",
              "121231  0.009048  1.530108e-04          0.001208      5.335090e-04   \n",
              "\n",
              "type    subarachnoid  subdural  \n",
              "5           0.000004  0.000013  \n",
              "12          0.000769  0.000098  \n",
              "16          0.278624  0.033490  \n",
              "24          0.000422  0.000027  \n",
              "29          0.003018  0.010064  \n",
              "...              ...       ...  \n",
              "121202      0.000084  0.000220  \n",
              "121212      0.074550  0.880309  \n",
              "121213      0.000269  0.000368  \n",
              "121226      0.000542  0.000239  \n",
              "121231      0.002247  0.005492  \n",
              "\n",
              "[18509 rows x 6 columns]"
            ]
          },
          "metadata": {
            "tags": []
          },
          "execution_count": 65
        }
      ]
    },
    {
      "cell_type": "code",
      "metadata": {
        "execution": {
          "iopub.execute_input": "2021-06-13T22:22:16.925861Z",
          "iopub.status.busy": "2021-06-13T22:22:16.925017Z",
          "iopub.status.idle": "2021-06-13T22:22:16.960201Z",
          "shell.execute_reply": "2021-06-13T22:22:16.959689Z",
          "shell.execute_reply.started": "2021-06-13T14:12:23.376026Z"
        },
        "papermill": {
          "duration": 34.753918,
          "end_time": "2021-06-13T22:22:16.960349",
          "exception": false,
          "start_time": "2021-06-13T22:21:42.206431",
          "status": "completed"
        },
        "tags": [],
        "id": "hired-fairy",
        "outputId": "de98e4f3-c9df-4e9b-da67-380f0cc09334"
      },
      "source": [
        "test_frame.insert(0, \"filename\", test_df.filename)\n",
        "test_frame"
      ],
      "id": "hired-fairy",
      "execution_count": null,
      "outputs": [
        {
          "output_type": "execute_result",
          "data": {
            "text/html": [
              "<div>\n",
              "<style scoped>\n",
              "    .dataframe tbody tr th:only-of-type {\n",
              "        vertical-align: middle;\n",
              "    }\n",
              "\n",
              "    .dataframe tbody tr th {\n",
              "        vertical-align: top;\n",
              "    }\n",
              "\n",
              "    .dataframe thead th {\n",
              "        text-align: right;\n",
              "    }\n",
              "</style>\n",
              "<table border=\"1\" class=\"dataframe\">\n",
              "  <thead>\n",
              "    <tr style=\"text-align: right;\">\n",
              "      <th>type</th>\n",
              "      <th>filename</th>\n",
              "      <th>any</th>\n",
              "      <th>epidural</th>\n",
              "      <th>intraparenchymal</th>\n",
              "      <th>intraventricular</th>\n",
              "      <th>subarachnoid</th>\n",
              "      <th>subdural</th>\n",
              "    </tr>\n",
              "  </thead>\n",
              "  <tbody>\n",
              "    <tr>\n",
              "      <th>5</th>\n",
              "      <td>ID_0001af484.png</td>\n",
              "      <td>0.000060</td>\n",
              "      <td>6.468678e-08</td>\n",
              "      <td>0.000014</td>\n",
              "      <td>4.234451e-06</td>\n",
              "      <td>0.000004</td>\n",
              "      <td>0.000013</td>\n",
              "    </tr>\n",
              "    <tr>\n",
              "      <th>12</th>\n",
              "      <td>ID_00060ace2.png</td>\n",
              "      <td>0.000999</td>\n",
              "      <td>7.436101e-06</td>\n",
              "      <td>0.000122</td>\n",
              "      <td>5.031473e-05</td>\n",
              "      <td>0.000769</td>\n",
              "      <td>0.000098</td>\n",
              "    </tr>\n",
              "    <tr>\n",
              "      <th>16</th>\n",
              "      <td>ID_000a50137.png</td>\n",
              "      <td>0.899073</td>\n",
              "      <td>1.944028e-03</td>\n",
              "      <td>0.474854</td>\n",
              "      <td>7.468725e-01</td>\n",
              "      <td>0.278624</td>\n",
              "      <td>0.033490</td>\n",
              "    </tr>\n",
              "    <tr>\n",
              "      <th>24</th>\n",
              "      <td>ID_000cfc3de.png</td>\n",
              "      <td>0.000442</td>\n",
              "      <td>3.012911e-06</td>\n",
              "      <td>0.000172</td>\n",
              "      <td>1.535425e-04</td>\n",
              "      <td>0.000422</td>\n",
              "      <td>0.000027</td>\n",
              "    </tr>\n",
              "    <tr>\n",
              "      <th>29</th>\n",
              "      <td>ID_000fa581b.png</td>\n",
              "      <td>0.016134</td>\n",
              "      <td>8.428097e-04</td>\n",
              "      <td>0.001005</td>\n",
              "      <td>4.806009e-04</td>\n",
              "      <td>0.003018</td>\n",
              "      <td>0.010064</td>\n",
              "    </tr>\n",
              "    <tr>\n",
              "      <th>...</th>\n",
              "      <td>...</td>\n",
              "      <td>...</td>\n",
              "      <td>...</td>\n",
              "      <td>...</td>\n",
              "      <td>...</td>\n",
              "      <td>...</td>\n",
              "      <td>...</td>\n",
              "    </tr>\n",
              "    <tr>\n",
              "      <th>121202</th>\n",
              "      <td>ID_fff33fd4d.png</td>\n",
              "      <td>0.000384</td>\n",
              "      <td>2.584474e-06</td>\n",
              "      <td>0.000032</td>\n",
              "      <td>2.598462e-05</td>\n",
              "      <td>0.000084</td>\n",
              "      <td>0.000220</td>\n",
              "    </tr>\n",
              "    <tr>\n",
              "      <th>121212</th>\n",
              "      <td>ID_fff6fc13f.png</td>\n",
              "      <td>0.984386</td>\n",
              "      <td>1.886656e-02</td>\n",
              "      <td>0.055900</td>\n",
              "      <td>4.621408e-04</td>\n",
              "      <td>0.074550</td>\n",
              "      <td>0.880309</td>\n",
              "    </tr>\n",
              "    <tr>\n",
              "      <th>121213</th>\n",
              "      <td>ID_fff6ff09c.png</td>\n",
              "      <td>0.001146</td>\n",
              "      <td>8.656136e-05</td>\n",
              "      <td>0.000045</td>\n",
              "      <td>2.891805e-07</td>\n",
              "      <td>0.000269</td>\n",
              "      <td>0.000368</td>\n",
              "    </tr>\n",
              "    <tr>\n",
              "      <th>121226</th>\n",
              "      <td>ID_fffaf0843.png</td>\n",
              "      <td>0.000693</td>\n",
              "      <td>5.347460e-06</td>\n",
              "      <td>0.000015</td>\n",
              "      <td>7.925104e-06</td>\n",
              "      <td>0.000542</td>\n",
              "      <td>0.000239</td>\n",
              "    </tr>\n",
              "    <tr>\n",
              "      <th>121231</th>\n",
              "      <td>ID_fffe2c218.png</td>\n",
              "      <td>0.009048</td>\n",
              "      <td>1.530108e-04</td>\n",
              "      <td>0.001208</td>\n",
              "      <td>5.335090e-04</td>\n",
              "      <td>0.002247</td>\n",
              "      <td>0.005492</td>\n",
              "    </tr>\n",
              "  </tbody>\n",
              "</table>\n",
              "<p>18509 rows × 7 columns</p>\n",
              "</div>"
            ],
            "text/plain": [
              "type            filename       any      epidural  intraparenchymal  \\\n",
              "5       ID_0001af484.png  0.000060  6.468678e-08          0.000014   \n",
              "12      ID_00060ace2.png  0.000999  7.436101e-06          0.000122   \n",
              "16      ID_000a50137.png  0.899073  1.944028e-03          0.474854   \n",
              "24      ID_000cfc3de.png  0.000442  3.012911e-06          0.000172   \n",
              "29      ID_000fa581b.png  0.016134  8.428097e-04          0.001005   \n",
              "...                  ...       ...           ...               ...   \n",
              "121202  ID_fff33fd4d.png  0.000384  2.584474e-06          0.000032   \n",
              "121212  ID_fff6fc13f.png  0.984386  1.886656e-02          0.055900   \n",
              "121213  ID_fff6ff09c.png  0.001146  8.656136e-05          0.000045   \n",
              "121226  ID_fffaf0843.png  0.000693  5.347460e-06          0.000015   \n",
              "121231  ID_fffe2c218.png  0.009048  1.530108e-04          0.001208   \n",
              "\n",
              "type    intraventricular  subarachnoid  subdural  \n",
              "5           4.234451e-06      0.000004  0.000013  \n",
              "12          5.031473e-05      0.000769  0.000098  \n",
              "16          7.468725e-01      0.278624  0.033490  \n",
              "24          1.535425e-04      0.000422  0.000027  \n",
              "29          4.806009e-04      0.003018  0.010064  \n",
              "...                  ...           ...       ...  \n",
              "121202      2.598462e-05      0.000084  0.000220  \n",
              "121212      4.621408e-04      0.074550  0.880309  \n",
              "121213      2.891805e-07      0.000269  0.000368  \n",
              "121226      7.925104e-06      0.000542  0.000239  \n",
              "121231      5.335090e-04      0.002247  0.005492  \n",
              "\n",
              "[18509 rows x 7 columns]"
            ]
          },
          "metadata": {
            "tags": []
          },
          "execution_count": 66
        }
      ]
    },
    {
      "cell_type": "code",
      "metadata": {
        "execution": {
          "iopub.execute_input": "2021-06-13T22:23:27.486151Z",
          "iopub.status.busy": "2021-06-13T22:23:27.485404Z",
          "iopub.status.idle": "2021-06-13T22:23:28.454640Z",
          "shell.execute_reply": "2021-06-13T22:23:28.455075Z",
          "shell.execute_reply.started": "2021-06-13T14:12:30.489509Z"
        },
        "papermill": {
          "duration": 35.782569,
          "end_time": "2021-06-13T22:23:28.455239",
          "exception": false,
          "start_time": "2021-06-13T22:22:52.672670",
          "status": "completed"
        },
        "tags": [],
        "id": "analyzed-imagination",
        "outputId": "c249e2ea-9384-49d4-8990-8e83c74d6ac0"
      },
      "source": [
        "from PIL import Image\n",
        "for i in range(20): \n",
        "  \n",
        "    for j in range(1,7): \n",
        "        if test_frame.iloc[i,j] > 0.8: \n",
        "            path = '/kaggle/tmp/' + str(test_frame.iloc[i,0])\n",
        "            img = Image.open(path)\n",
        "            plt.imshow(img)\n",
        "            print(str(test_frame.iloc[i,0]) + \" has a probability: \"  + str(test_frame.iloc[i,j]) + \" for a '\" + str(test_frame.columns[j]) + \"' type of hemorrhage\")\n",
        "            plt.show()"
      ],
      "id": "analyzed-imagination",
      "execution_count": null,
      "outputs": [
        {
          "output_type": "stream",
          "text": [
            "ID_000a50137.png has a probability: 0.89907306 for a 'any' type of hemorrhage\n"
          ],
          "name": "stdout"
        },
        {
          "output_type": "display_data",
          "data": {
            "image/png": "[encoded data removed]",
            "text/plain": [
              "<Figure size 432x288 with 1 Axes>"
            ]
          },
          "metadata": {
            "tags": [],
            "needs_background": "light"
          }
        },
        {
          "output_type": "stream",
          "text": [
            "ID_00314064c.png has a probability: 0.97575504 for a 'any' type of hemorrhage\n"
          ],
          "name": "stdout"
        },
        {
          "output_type": "display_data",
          "data": {
            "image/png": "[encoded data removed]",
            "text/plain": [
              "<Figure size 432x288 with 1 Axes>"
            ]
          },
          "metadata": {
            "tags": [],
            "needs_background": "light"
          }
        },
        {
          "output_type": "stream",
          "text": [
            "ID_00314064c.png has a probability: 0.84868056 for a 'subarachnoid' type of hemorrhage\n"
          ],
          "name": "stdout"
        },
        {
          "output_type": "display_data",
          "data": {
            "image/png": "[encoded data removed]",
            "text/plain": [
              "<Figure size 432x288 with 1 Axes>"
            ]
          },
          "metadata": {
            "tags": [],
            "needs_background": "light"
          }
        },
        {
          "output_type": "stream",
          "text": [
            "ID_00314064c.png has a probability: 0.86561227 for a 'subdural' type of hemorrhage\n"
          ],
          "name": "stdout"
        },
        {
          "output_type": "display_data",
          "data": {
            "image/png": "[encoded data removed]",
            "text/plain": [
              "<Figure size 432x288 with 1 Axes>"
            ]
          },
          "metadata": {
            "tags": [],
            "needs_background": "light"
          }
        },
        {
          "output_type": "stream",
          "text": [
            "ID_0035af38a.png has a probability: 0.8091537 for a 'any' type of hemorrhage\n"
          ],
          "name": "stdout"
        },
        {
          "output_type": "display_data",
          "data": {
            "image/png": "[encoded data removed]",
            "text/plain": [
              "<Figure size 432x288 with 1 Axes>"
            ]
          },
          "metadata": {
            "tags": [],
            "needs_background": "light"
          }
        },
        {
          "output_type": "stream",
          "text": [
            "ID_004c4b503.png has a probability: 0.9760576 for a 'any' type of hemorrhage\n"
          ],
          "name": "stdout"
        },
        {
          "output_type": "display_data",
          "data": {
            "image/png": "[encoded data removed]",
            "text/plain": [
              "<Figure size 432x288 with 1 Axes>"
            ]
          },
          "metadata": {
            "tags": [],
            "needs_background": "light"
          }
        },
        {
          "output_type": "stream",
          "text": [
            "ID_004c4b503.png has a probability: 0.97629595 for a 'subdural' type of hemorrhage\n"
          ],
          "name": "stdout"
        },
        {
          "output_type": "display_data",
          "data": {
            "image/png": "[encoded data removed]",
            "text/plain": [
              "<Figure size 432x288 with 1 Axes>"
            ]
          },
          "metadata": {
            "tags": [],
            "needs_background": "light"
          }
        }
      ]
    },
    {
      "cell_type": "code",
      "metadata": {
        "execution": {
          "iopub.execute_input": "2021-06-13T22:24:38.042643Z",
          "iopub.status.busy": "2021-06-13T22:24:38.041795Z",
          "iopub.status.idle": "2021-06-13T22:24:38.066064Z",
          "shell.execute_reply": "2021-06-13T22:24:38.066477Z",
          "shell.execute_reply.started": "2021-06-12T09:11:02.99517Z"
        },
        "papermill": {
          "duration": 34.917799,
          "end_time": "2021-06-13T22:24:38.066619",
          "exception": false,
          "start_time": "2021-06-13T22:24:03.148820",
          "status": "completed"
        },
        "tags": [],
        "id": "vocal-essay",
        "outputId": "cf63f1b3-55f9-455a-c03c-3cc1849143bb"
      },
      "source": [
        "#heatmap \n",
        "#The code used to show the heatmake was taken from: https://keras.io/examples/vision/grad_cam/\n",
        "#Only slightly modified to fit this workflow and return the image with the highest predicition from the validtion set \n",
        "from IPython.display import Image, display\n",
        "\n",
        "preprocess_input = keras.applications.xception.preprocess_input\n",
        "decode_predictions = keras.applications.xception.decode_predictions\n",
        "\n",
        "last_conv_layer_name = \"block14_sepconv2_act\"\n",
        "\n",
        "img_path = '/kaggle/tmp/' + str(highest_predicted_img)\n",
        "display(Image(img_path))"
      ],
      "id": "vocal-essay",
      "execution_count": null,
      "outputs": [
        {
          "output_type": "display_data",
          "data": {
            "image/png": "[encoded data removed]",
            "text/plain": [
              "<IPython.core.display.Image object>"
            ]
          },
          "metadata": {
            "tags": []
          }
        }
      ]
    },
    {
      "cell_type": "code",
      "metadata": {
        "execution": {
          "iopub.execute_input": "2021-06-13T22:25:47.772250Z",
          "iopub.status.busy": "2021-06-13T22:25:47.771329Z",
          "iopub.status.idle": "2021-06-13T22:25:47.773873Z",
          "shell.execute_reply": "2021-06-13T22:25:47.773369Z",
          "shell.execute_reply.started": "2021-06-12T09:11:03.023315Z"
        },
        "papermill": {
          "duration": 34.863322,
          "end_time": "2021-06-13T22:25:47.773984",
          "exception": false,
          "start_time": "2021-06-13T22:25:12.910662",
          "status": "completed"
        },
        "tags": [],
        "id": "ethical-liabilities"
      },
      "source": [
        "def get_img_array(img_path, size):\n",
        "    # `img` is a PIL image of size 299x299\n",
        "    img = keras.preprocessing.image.load_img(img_path, target_size=size)\n",
        "    # `array` is a float32 Numpy array of shape (299, 299, 3)\n",
        "    array = keras.preprocessing.image.img_to_array(img)\n",
        "    # We add a dimension to transform our array into a \"batch\"\n",
        "    # of size (1, 299, 299, 3)\n",
        "    array = np.expand_dims(array, axis=0)\n",
        "    return array\n",
        "\n",
        "def make_gradcam_heatmap(img_array, model, last_conv_layer_name, pred_index=None):\n",
        "    # First, we create a model that maps the input image to the activations\n",
        "    # of the last conv layer as well as the output predictions\n",
        "    grad_model = tf.keras.models.Model(\n",
        "        [model.inputs], [model.get_layer(last_conv_layer_name).output, model.output]\n",
        "    )\n",
        "\n",
        "    # Then, we compute the gradient of the top predicted class for our input image\n",
        "    # with respect to the activations of the last conv layer\n",
        "    with tf.GradientTape() as tape:\n",
        "        last_conv_layer_output, preds = grad_model(img_array)\n",
        "        if pred_index is None:\n",
        "            pred_index = tf.argmax(preds[0])\n",
        "        class_channel = preds[:, pred_index]\n",
        "\n",
        "    # This is the gradient of the output neuron (top predicted or chosen)\n",
        "    # with regard to the output feature map of the last conv layer\n",
        "    grads = tape.gradient(class_channel, last_conv_layer_output)\n",
        "\n",
        "    # This is a vector where each entry is the mean intensity of the gradient\n",
        "    # over a specific feature map channel\n",
        "    pooled_grads = tf.reduce_mean(grads, axis=(0, 1, 2))\n",
        "\n",
        "    # We multiply each channel in the feature map array\n",
        "    # by \"how important this channel is\" with regard to the top predicted class\n",
        "    # then sum all the channels to obtain the heatmap class activation\n",
        "    last_conv_layer_output = last_conv_layer_output[0]\n",
        "    heatmap = last_conv_layer_output @ pooled_grads[..., tf.newaxis]\n",
        "    heatmap = tf.squeeze(heatmap)\n",
        "\n",
        "    # For visualization purpose, we will also normalize the heatmap between 0 & 1\n",
        "    heatmap = tf.maximum(heatmap, 0) / tf.math.reduce_max(heatmap)\n",
        "    return heatmap.numpy()"
      ],
      "id": "ethical-liabilities",
      "execution_count": null,
      "outputs": []
    },
    {
      "cell_type": "code",
      "metadata": {
        "execution": {
          "iopub.execute_input": "2021-06-13T22:26:57.304563Z",
          "iopub.status.busy": "2021-06-13T22:26:57.303650Z",
          "iopub.status.idle": "2021-06-13T22:26:58.246262Z",
          "shell.execute_reply": "2021-06-13T22:26:58.245481Z",
          "shell.execute_reply.started": "2021-06-12T09:11:03.035896Z"
        },
        "papermill": {
          "duration": 35.859888,
          "end_time": "2021-06-13T22:26:58.246459",
          "exception": false,
          "start_time": "2021-06-13T22:26:22.386571",
          "status": "completed"
        },
        "tags": [],
        "id": "sustained-palace",
        "outputId": "8aaceab9-e6b2-4d75-de46-218feca91dec"
      },
      "source": [
        "img_size = (299, 299)\n",
        "\n",
        "img_array = preprocess_input(get_img_array(img_path, size=img_size))\n",
        "\n",
        "model.layers[-1].activation = None\n",
        "\n",
        "heatmap = make_gradcam_heatmap(img_array, model, last_conv_layer_name)\n",
        "\n",
        "# Display heatmap\n",
        "plt.matshow(heatmap)\n",
        "plt.show()\n"
      ],
      "id": "sustained-palace",
      "execution_count": null,
      "outputs": [
        {
          "output_type": "display_data",
          "data": {
            "image/png": "[encoded data removed]",
            "text/plain": [
              "<Figure size 288x288 with 1 Axes>"
            ]
          },
          "metadata": {
            "tags": [],
            "needs_background": "light"
          }
        }
      ]
    },
    {
      "cell_type": "code",
      "metadata": {
        "execution": {
          "iopub.execute_input": "2021-06-13T22:28:07.788328Z",
          "iopub.status.busy": "2021-06-13T22:28:07.787735Z",
          "iopub.status.idle": "2021-06-13T22:28:07.791704Z",
          "shell.execute_reply": "2021-06-13T22:28:07.791298Z"
        },
        "papermill": {
          "duration": 34.900873,
          "end_time": "2021-06-13T22:28:07.791831",
          "exception": false,
          "start_time": "2021-06-13T22:27:32.890958",
          "status": "completed"
        },
        "tags": [],
        "id": "contained-victoria"
      },
      "source": [
        "import matplotlib.cm as cm\n",
        "def save_and_display_gradcam(img_path, heatmap, cam_path=\"cam.jpg\", alpha=0.4):\n",
        "    # Load the original image\n",
        "    img = keras.preprocessing.image.load_img(img_path)\n",
        "    img = keras.preprocessing.image.img_to_array(img)\n",
        "\n",
        "    # Rescale heatmap to a range 0-255\n",
        "    heatmap = np.uint8(255 * heatmap)\n",
        "\n",
        "    # Use jet colormap to colorize heatmap\n",
        "    jet = cm.get_cmap(\"jet\")\n",
        "\n",
        "    # Use RGB values of the colormap\n",
        "    jet_colors = jet(np.arange(256))[:, :3]\n",
        "    jet_heatmap = jet_colors[heatmap]\n",
        "\n",
        "    # Create an image with RGB colorized heatmap\n",
        "    jet_heatmap = keras.preprocessing.image.array_to_img(jet_heatmap)\n",
        "    jet_heatmap = jet_heatmap.resize((img.shape[1], img.shape[0]))\n",
        "    jet_heatmap = keras.preprocessing.image.img_to_array(jet_heatmap)\n",
        "\n",
        "    # Superimpose the heatmap on original image\n",
        "    superimposed_img = jet_heatmap * alpha + img\n",
        "    superimposed_img = keras.preprocessing.image.array_to_img(superimposed_img)\n",
        "\n",
        "    # Save the superimposed image\n",
        "    superimposed_img.save(cam_path)\n",
        "\n",
        "    # Display Grad CAM\n",
        "    display(Image(cam_path))\n"
      ],
      "id": "contained-victoria",
      "execution_count": null,
      "outputs": []
    },
    {
      "cell_type": "code",
      "metadata": {
        "execution": {
          "iopub.execute_input": "2021-06-13T22:29:17.645077Z",
          "iopub.status.busy": "2021-06-13T22:29:17.644155Z",
          "iopub.status.idle": "2021-06-13T22:29:17.659092Z",
          "shell.execute_reply": "2021-06-13T22:29:17.658570Z"
        },
        "papermill": {
          "duration": 35.108543,
          "end_time": "2021-06-13T22:29:17.659222",
          "exception": false,
          "start_time": "2021-06-13T22:28:42.550679",
          "status": "completed"
        },
        "tags": [],
        "id": "disciplinary-princeton",
        "outputId": "041efe17-9d99-414a-f2e8-b21813ad0a92"
      },
      "source": [
        "save_and_display_gradcam(img_path, heatmap)"
      ],
      "id": "disciplinary-princeton",
      "execution_count": null,
      "outputs": [
        {
          "output_type": "display_data",
          "data": {
            "image/jpeg": "[encoded data removed]",
            "text/plain": [
              "<IPython.core.display.Image object>"
            ]
          },
          "metadata": {
            "tags": []
          }
        }
      ]
    }
  ]
}